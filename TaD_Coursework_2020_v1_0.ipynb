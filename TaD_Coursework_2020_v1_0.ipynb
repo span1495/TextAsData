{
  "nbformat": 4,
  "nbformat_minor": 0,
  "metadata": {
    "colab": {
      "name": "Copy of TaD Coursework Skeleton 2020 - v1.0",
      "provenance": [],
      "collapsed_sections": [],
      "toc_visible": true
    },
    "kernelspec": {
      "name": "python3",
      "display_name": "Python 3"
    }
  },
  "cells": [
    {
      "cell_type": "markdown",
      "metadata": {
        "id": "2gv2i9fNDvrg",
        "colab_type": "text"
      },
      "source": [
        "## Part A: Subreddit Prediction ##"
      ]
    },
    {
      "cell_type": "markdown",
      "metadata": {
        "id": "6o8LkhhMxDlJ",
        "colab_type": "text"
      },
      "source": [
        "# Data Preparation"
      ]
    },
    {
      "cell_type": "code",
      "metadata": {
        "id": "ZG9BpbQt3-ko",
        "colab_type": "code",
        "outputId": "c728ed17-09ed-4dc5-b3b9-5ef0f8208f4e",
        "colab": {
          "base_uri": "https://localhost:8080/",
          "height": 170
        }
      },
      "source": [
        "subreddit_train = \"coursework_subreddit_train.json\"\n",
        "subreddit_validation = \"coursework_subreddit_validation.json\"\n",
        "subreddit_test = \"coursework_subreddit_test.json\"\n",
        "\n",
        "!gsutil cp gs://textasdata/coursework/coursework_subreddit_train2020.json $subreddit_train \n",
        "!gsutil cp gs://textasdata/coursework/coursework_subreddit_validation2020.json $subreddit_validation \n",
        "!gsutil cp gs://textasdata/coursework/coursework_subreddit_test.json  $subreddit_test"
      ],
      "execution_count": 1,
      "outputs": [
        {
          "output_type": "stream",
          "text": [
            "Copying gs://textasdata/coursework/coursework_subreddit_train2020.json...\n",
            "/ [1 files][  8.0 MiB/  8.0 MiB]                                                \n",
            "Operation completed over 1 objects/8.0 MiB.                                      \n",
            "Copying gs://textasdata/coursework/coursework_subreddit_validation2020.json...\n",
            "/ [1 files][  2.1 MiB/  2.1 MiB]                                                \n",
            "Operation completed over 1 objects/2.1 MiB.                                      \n",
            "Copying gs://textasdata/coursework/coursework_subreddit_test.json...\n",
            "/ [1 files][  2.7 MiB/  2.7 MiB]                                                \n",
            "Operation completed over 1 objects/2.7 MiB.                                      \n"
          ],
          "name": "stdout"
        }
      ]
    },
    {
      "cell_type": "code",
      "metadata": {
        "id": "P7e6MQDsgozv",
        "colab_type": "code",
        "colab": {}
      },
      "source": [
        "import warnings\n",
        "warnings.filterwarnings(\"ignore\")\n",
        "from sklearn.base import BaseEstimator, TransformerMixin\n",
        "from sklearn.metrics.pairwise import cosine_similarity"
      ],
      "execution_count": 0,
      "outputs": []
    },
    {
      "cell_type": "code",
      "metadata": {
        "id": "iCEG8t6PC2f7",
        "colab_type": "code",
        "outputId": "36a14622-b29e-4312-febf-4875ddd2358f",
        "colab": {
          "base_uri": "https://localhost:8080/",
          "height": 359
        }
      },
      "source": [
        "import pandas as pd\n",
        "import json\n",
        "import numpy as np\n",
        "train_threads = pd.read_json(path_or_buf=subreddit_train, lines=True)\n",
        "\n",
        "\n",
        "def get_thread_fields(t_thread):\n",
        "  posts_tmp = list()\n",
        "  i = 0\n",
        "  for post in np.array(t_thread['posts']):\n",
        "    title = t_thread['title'][i]\n",
        "    i += 1\n",
        "    body_list = []\n",
        "    author_list = []\n",
        "    for p in post:\n",
        "      body_list.append(p.get('body'))\n",
        "      author_list.append(p.get('author'))\n",
        "    posts_tmp.append((title,str(author_list),str(body_list)))\n",
        "  # Create the posts data frame.  \n",
        "  labels = ['title', 'author', 'body']\n",
        "  temp_frame = pd.DataFrame(posts_tmp, columns=labels)\n",
        "  return temp_frame\n",
        "\n",
        "train_frame = get_thread_fields(train_threads)\n",
        "train_frame.head(10)\n",
        "\n"
      ],
      "execution_count": 3,
      "outputs": [
        {
          "output_type": "execute_result",
          "data": {
            "text/html": [
              "<div>\n",
              "<style scoped>\n",
              "    .dataframe tbody tr th:only-of-type {\n",
              "        vertical-align: middle;\n",
              "    }\n",
              "\n",
              "    .dataframe tbody tr th {\n",
              "        vertical-align: top;\n",
              "    }\n",
              "\n",
              "    .dataframe thead th {\n",
              "        text-align: right;\n",
              "    }\n",
              "</style>\n",
              "<table border=\"1\" class=\"dataframe\">\n",
              "  <thead>\n",
              "    <tr style=\"text-align: right;\">\n",
              "      <th></th>\n",
              "      <th>title</th>\n",
              "      <th>author</th>\n",
              "      <th>body</th>\n",
              "    </tr>\n",
              "  </thead>\n",
              "  <tbody>\n",
              "    <tr>\n",
              "      <th>0</th>\n",
              "      <td>My Friend/Crush [22/F] acting weird after I [2...</td>\n",
              "      <td>['Melodrama_', 'Melodrama_', 'TreatYoSelves', ...</td>\n",
              "      <td>[\"It's a sad realization, isn't it?\", \"I told ...</td>\n",
              "    </tr>\n",
              "    <tr>\n",
              "      <th>1</th>\n",
              "      <td>Have you ever gotten revenge on someone, and t...</td>\n",
              "      <td>[None, 'HIGH-AS-FUCK', 'Hobbs54', 'Oniknight']</td>\n",
              "      <td>[\"Browsing Reddit, I've seen numerous posts wh...</td>\n",
              "    </tr>\n",
              "    <tr>\n",
              "      <th>2</th>\n",
              "      <td>Despite the English Definition, Is weed Someho...</td>\n",
              "      <td>['IGOA2BBYKEEPINGITG', 'AnxiousHerb', 'kslushe...</td>\n",
              "      <td>['Some poster is telling me \"you\\'re a dense f...</td>\n",
              "    </tr>\n",
              "    <tr>\n",
              "      <th>3</th>\n",
              "      <td>What's a good television show in Latin America...</td>\n",
              "      <td>['mrspence', None, 'Ted_Denslow', 'ChewableTit...</td>\n",
              "      <td>['I like shows like Dexter and Walking Dead.  ...</td>\n",
              "    </tr>\n",
              "    <tr>\n",
              "      <th>4</th>\n",
              "      <td>ELI5: Legally, does every crime have to have a...</td>\n",
              "      <td>['nikiverse', 'AgoraiosBum', 'nikiverse', 'Ago...</td>\n",
              "      <td>['Is a \"motive\" necessary to prosecute someone...</td>\n",
              "    </tr>\n",
              "    <tr>\n",
              "      <th>5</th>\n",
              "      <td>Battleship (movie, 2012) - Bestest Freshest ta...</td>\n",
              "      <td>['Oh_hai_o', 'humble_narcissist', 'keithb', 'h...</td>\n",
              "      <td>['Not sure if being funny or seriously liked? ...</td>\n",
              "    </tr>\n",
              "    <tr>\n",
              "      <th>6</th>\n",
              "      <td>What are some good apps to have on a iPhone??</td>\n",
              "      <td>['spartacus24', 'Missing_nosleep', 'spartacus2...</td>\n",
              "      <td>[\"I'm getting bored of the apps I have on my i...</td>\n",
              "    </tr>\n",
              "    <tr>\n",
              "      <th>7</th>\n",
              "      <td>Now that Leo has won Oscars, who would we meme...</td>\n",
              "      <td>['flexice', 'Sabedoria', 'Lampburglar', 'KingO...</td>\n",
              "      <td>['', '\"Why doesn\\'t he have more\" obviously.',...</td>\n",
              "    </tr>\n",
              "    <tr>\n",
              "      <th>8</th>\n",
              "      <td>Toph and Katara (the last airbender) VS Sloth ...</td>\n",
              "      <td>['rie9shock', 'robcap', 'vadergeek', 'robcap',...</td>\n",
              "      <td>['', \"Hmm. I think Sloth.\\n\\nToph and Katara d...</td>\n",
              "    </tr>\n",
              "    <tr>\n",
              "      <th>9</th>\n",
              "      <td>What is your current ringtone/sms sound?</td>\n",
              "      <td>['gfragozo', None, None, 'Jaycatt', '_Goose_',...</td>\n",
              "      <td>['My ringtone is Joker from Mass Effect 2 sayi...</td>\n",
              "    </tr>\n",
              "  </tbody>\n",
              "</table>\n",
              "</div>"
            ],
            "text/plain": [
              "                                               title  ...                                               body\n",
              "0  My Friend/Crush [22/F] acting weird after I [2...  ...  [\"It's a sad realization, isn't it?\", \"I told ...\n",
              "1  Have you ever gotten revenge on someone, and t...  ...  [\"Browsing Reddit, I've seen numerous posts wh...\n",
              "2  Despite the English Definition, Is weed Someho...  ...  ['Some poster is telling me \"you\\'re a dense f...\n",
              "3  What's a good television show in Latin America...  ...  ['I like shows like Dexter and Walking Dead.  ...\n",
              "4  ELI5: Legally, does every crime have to have a...  ...  ['Is a \"motive\" necessary to prosecute someone...\n",
              "5  Battleship (movie, 2012) - Bestest Freshest ta...  ...  ['Not sure if being funny or seriously liked? ...\n",
              "6      What are some good apps to have on a iPhone??  ...  [\"I'm getting bored of the apps I have on my i...\n",
              "7  Now that Leo has won Oscars, who would we meme...  ...  ['', '\"Why doesn\\'t he have more\" obviously.',...\n",
              "8  Toph and Katara (the last airbender) VS Sloth ...  ...  ['', \"Hmm. I think Sloth.\\n\\nToph and Katara d...\n",
              "9           What is your current ringtone/sms sound?  ...  ['My ringtone is Joker from Mass Effect 2 sayi...\n",
              "\n",
              "[10 rows x 3 columns]"
            ]
          },
          "metadata": {
            "tags": []
          },
          "execution_count": 3
        }
      ]
    },
    {
      "cell_type": "code",
      "metadata": {
        "id": "Mz5RFxFXDCKZ",
        "colab_type": "code",
        "colab": {}
      },
      "source": [
        "validation_threads = pd.read_json(path_or_buf=subreddit_validation, lines=True)\n",
        "validation_frame = get_thread_fields(validation_threads)"
      ],
      "execution_count": 0,
      "outputs": []
    },
    {
      "cell_type": "code",
      "metadata": {
        "id": "89UU3g27C8SZ",
        "colab_type": "code",
        "colab": {}
      },
      "source": [
        "test_threads = pd.read_json(path_or_buf=subreddit_test, lines=True)\n",
        "test_frame = get_thread_fields(test_threads)"
      ],
      "execution_count": 0,
      "outputs": []
    },
    {
      "cell_type": "code",
      "metadata": {
        "id": "3Nl9qzazDQ_6",
        "colab_type": "code",
        "outputId": "04614a61-cc1b-4d94-9aea-15dab06f5720",
        "colab": {
          "base_uri": "https://localhost:8080/",
          "height": 527
        }
      },
      "source": [
        "subreddit_counts = train_threads['subreddit'].value_counts()\n",
        "print(subreddit_counts.describe())\n",
        "top_subbreddits = subreddit_counts.nlargest(20)\n",
        "top_subbreddits_list = top_subbreddits.index.tolist()\n",
        "print(top_subbreddits)"
      ],
      "execution_count": 6,
      "outputs": [
        {
          "output_type": "stream",
          "text": [
            "count     20.000000\n",
            "mean      58.200000\n",
            "std       60.248258\n",
            "min       20.000000\n",
            "25%       28.750000\n",
            "50%       38.500000\n",
            "75%       49.500000\n",
            "max      276.000000\n",
            "Name: subreddit, dtype: float64\n",
            "askreddit               276\n",
            "leagueoflegends         157\n",
            "buildapc                103\n",
            "explainlikeimfive        60\n",
            "gaming                   51\n",
            "trees                    49\n",
            "techsupport              48\n",
            "pcmasterrace             47\n",
            "electronic_cigarette     46\n",
            "relationships            42\n",
            "tipofmytongue            35\n",
            "summonerschool           33\n",
            "jailbreak                31\n",
            "hearthstone              30\n",
            "whowouldwin              29\n",
            "atheism                  28\n",
            "personalfinance          27\n",
            "reddit.com               27\n",
            "movies                   25\n",
            "starcraft                20\n",
            "Name: subreddit, dtype: int64\n"
          ],
          "name": "stdout"
        }
      ]
    },
    {
      "cell_type": "code",
      "metadata": {
        "id": "02OXNfo9H8Kc",
        "colab_type": "code",
        "colab": {}
      },
      "source": [
        "train_features = train_frame\n",
        "validation_features = validation_frame\n",
        "test_features = test_frame\n",
        "train_labels = train_threads['subreddit']\n",
        "validation_labels = validation_threads['subreddit']\n",
        "test_labels = test_threads['subreddit']"
      ],
      "execution_count": 0,
      "outputs": []
    },
    {
      "cell_type": "code",
      "metadata": {
        "id": "pOtmZAmRLx5S",
        "colab_type": "code",
        "outputId": "85710a73-8241-4979-c011-5e6ec9f23d45",
        "colab": {
          "base_uri": "https://localhost:8080/",
          "height": 34
        }
      },
      "source": [
        "import spacy\n",
        "\n",
        "nlp =spacy.load('en_core_web_sm', disable=['ner'])\n",
        "nlp.remove_pipe('tagger')\n",
        "nlp.remove_pipe('parser')"
      ],
      "execution_count": 8,
      "outputs": [
        {
          "output_type": "execute_result",
          "data": {
            "text/plain": [
              "('parser', <spacy.pipeline.pipes.DependencyParser at 0x7ff8581d6288>)"
            ]
          },
          "metadata": {
            "tags": []
          },
          "execution_count": 8
        }
      ]
    },
    {
      "cell_type": "code",
      "metadata": {
        "id": "UCgnNFgkLyUT",
        "colab_type": "code",
        "colab": {}
      },
      "source": [
        "#@Tokenize\n",
        "def spacy_tokenize(string):\n",
        "  tokens = list()\n",
        "  doc = nlp(string)\n",
        "  for token in doc:\n",
        "    tokens.append(token)\n",
        "  return tokens\n",
        "\n",
        "#@Normalize\n",
        "def normalize(tokens):\n",
        "  normalized_tokens = list()\n",
        "  for token in tokens:\n",
        "    normalized = token.text.lower().strip()\n",
        "    if ((token.is_alpha or token.is_digit)):\n",
        "      normalized_tokens.append(normalized)\n",
        "  return normalized_tokens\n",
        "  return normalized_tokens\n",
        "\n",
        "#@Tokenize and normalize\n",
        "def tokenize_normalize(string):\n",
        "  return normalize(spacy_tokenize(string))\n",
        "\n",
        "from sklearn.metrics import classification_report\n",
        "from sklearn.metrics import confusion_matrix\n",
        "from sklearn.metrics import precision_score\n",
        "from sklearn.metrics import recall_score\n",
        "from sklearn.metrics import accuracy_score\n",
        "from sklearn.metrics import fbeta_score\n",
        "\n",
        "def evaluation_summary(description, predictions, true_labels):\n",
        "  print(\"Evaluation for: \" + description)\n",
        "  precision = precision_score(predictions, true_labels, average='macro')\n",
        "  recall = recall_score(predictions, true_labels, average='macro')\n",
        "  accuracy = accuracy_score(predictions, true_labels)\n",
        "  f1 = fbeta_score(predictions, true_labels, 1, average='macro') #1 means f_1 measure\n",
        "  print(\"Classifier '%s' has Acc=%0.3f P=%0.3f R=%0.3f F1=%0.3f\" % (description,accuracy,precision,recall,f1))\n",
        "  # Specify three digits instead of the default two.\n",
        "  print(classification_report(predictions, true_labels, digits=3))\n",
        "  print('\\nConfusion matrix:\\n',confusion_matrix(true_labels, predictions)) # Note the order here is true, predicted, odd.\n",
        "  return classification_report(predictions, true_labels, digits=3,output_dict=True)"
      ],
      "execution_count": 0,
      "outputs": []
    },
    {
      "cell_type": "markdown",
      "metadata": {
        "id": "d1u3VtztxAB5",
        "colab_type": "text"
      },
      "source": [
        "## Q1"
      ]
    },
    {
      "cell_type": "code",
      "metadata": {
        "id": "kgiBQatwMQLq",
        "colab_type": "code",
        "colab": {}
      },
      "source": [
        "from sklearn.feature_extraction.text import CountVectorizer\n",
        "from sklearn.pipeline import FeatureUnion\n",
        "from sklearn.pipeline import Pipeline\n",
        "from sklearn.base import BaseEstimator, TransformerMixin\n",
        "from sklearn.dummy import DummyClassifier\n",
        "\n",
        "class ItemSelector(BaseEstimator, TransformerMixin):\n",
        "    \"\"\"For data grouped by feature, select subset of data at a provided key.    \"\"\"\n",
        "\n",
        "    def __init__(self, key):\n",
        "        self.key = key\n",
        "\n",
        "    def fit(self, x, y=None):\n",
        "        return self\n",
        "\n",
        "    def transform(self, data_dict):\n",
        "        return data_dict[self.key]\n",
        "class MySelector(BaseEstimator, TransformerMixin):\n",
        "    \"\"\"For data grouped by feature, select subset of data at a provided key.    \"\"\"\n",
        "\n",
        "    def __init__(self, key):\n",
        "        self.key = key\n",
        "\n",
        "    def fit(self, x, y=None):\n",
        "        return self\n",
        "\n",
        "    def transform(self, data_dict):\n",
        "        return np.array(data_dict[self.key]).reshape(len(data_dict), 1)\n"
      ],
      "execution_count": 0,
      "outputs": []
    },
    {
      "cell_type": "code",
      "metadata": {
        "id": "S_br4Th4hzYQ",
        "colab_type": "code",
        "outputId": "40c2cd5d-a664-4562-b8ae-bfb8e6476a76",
        "colab": {
          "base_uri": "https://localhost:8080/",
          "height": 884
        }
      },
      "source": [
        "DummyClassifier_feature_union = Pipeline([\n",
        "        ('union', FeatureUnion(\n",
        "          [\n",
        "            ('title', Pipeline([\n",
        "              ('selector', ItemSelector(key='title')),\n",
        "              ('one-hot', CountVectorizer(binary=True)), \n",
        "              ])),\n",
        "            ('author', Pipeline([\n",
        "              ('selector', ItemSelector(key='author')),\n",
        "              ('one-hot', CountVectorizer(binary=True)), \n",
        "              ])),\n",
        "            ('body', Pipeline([\n",
        "              ('selector', ItemSelector(key='body')),\n",
        "              ('one-hot', CountVectorizer(binary=True)), \n",
        "              ])),\n",
        "        ])\n",
        "        ),\n",
        "        ('dummy', DummyClassifier(strategy='most_frequent'))\n",
        "    ])\n",
        "DummyClassifier_feature_union.fit(train_features,train_labels)\n",
        "#_=evaluation_summary(\"DummyClassifier Union Pipeline\", DummyClassifier_feature_union.predict(validation_features), validation_labels) \n",
        "_=evaluation_summary(\"DummyClassifier Union Pipeline\", DummyClassifier_feature_union.predict(test_features), test_labels) "
      ],
      "execution_count": 11,
      "outputs": [
        {
          "output_type": "stream",
          "text": [
            "Evaluation for: DummyClassifier Union Pipeline\n",
            "Classifier 'DummyClassifier Union Pipeline' has Acc=0.230 P=0.050 R=0.012 F1=0.019\n",
            "                      precision    recall  f1-score   support\n",
            "\n",
            "           askreddit      1.000     0.230     0.374       365\n",
            "             atheism      0.000     0.000     0.000         0\n",
            "            buildapc      0.000     0.000     0.000         0\n",
            "electronic_cigarette      0.000     0.000     0.000         0\n",
            "   explainlikeimfive      0.000     0.000     0.000         0\n",
            "              gaming      0.000     0.000     0.000         0\n",
            "         hearthstone      0.000     0.000     0.000         0\n",
            "           jailbreak      0.000     0.000     0.000         0\n",
            "     leagueoflegends      0.000     0.000     0.000         0\n",
            "              movies      0.000     0.000     0.000         0\n",
            "        pcmasterrace      0.000     0.000     0.000         0\n",
            "     personalfinance      0.000     0.000     0.000         0\n",
            "          reddit.com      0.000     0.000     0.000         0\n",
            "       relationships      0.000     0.000     0.000         0\n",
            "           starcraft      0.000     0.000     0.000         0\n",
            "      summonerschool      0.000     0.000     0.000         0\n",
            "         techsupport      0.000     0.000     0.000         0\n",
            "       tipofmytongue      0.000     0.000     0.000         0\n",
            "               trees      0.000     0.000     0.000         0\n",
            "         whowouldwin      0.000     0.000     0.000         0\n",
            "\n",
            "            accuracy                          0.230       365\n",
            "           macro avg      0.050     0.012     0.019       365\n",
            "        weighted avg      1.000     0.230     0.374       365\n",
            "\n",
            "\n",
            "Confusion matrix:\n",
            " [[84  0  0  0  0  0  0  0  0  0  0  0  0  0  0  0  0  0  0  0]\n",
            " [12  0  0  0  0  0  0  0  0  0  0  0  0  0  0  0  0  0  0  0]\n",
            " [37  0  0  0  0  0  0  0  0  0  0  0  0  0  0  0  0  0  0  0]\n",
            " [ 9  0  0  0  0  0  0  0  0  0  0  0  0  0  0  0  0  0  0  0]\n",
            " [14  0  0  0  0  0  0  0  0  0  0  0  0  0  0  0  0  0  0  0]\n",
            " [17  0  0  0  0  0  0  0  0  0  0  0  0  0  0  0  0  0  0  0]\n",
            " [15  0  0  0  0  0  0  0  0  0  0  0  0  0  0  0  0  0  0  0]\n",
            " [11  0  0  0  0  0  0  0  0  0  0  0  0  0  0  0  0  0  0  0]\n",
            " [48  0  0  0  0  0  0  0  0  0  0  0  0  0  0  0  0  0  0  0]\n",
            " [ 5  0  0  0  0  0  0  0  0  0  0  0  0  0  0  0  0  0  0  0]\n",
            " [23  0  0  0  0  0  0  0  0  0  0  0  0  0  0  0  0  0  0  0]\n",
            " [10  0  0  0  0  0  0  0  0  0  0  0  0  0  0  0  0  0  0  0]\n",
            " [ 6  0  0  0  0  0  0  0  0  0  0  0  0  0  0  0  0  0  0  0]\n",
            " [ 6  0  0  0  0  0  0  0  0  0  0  0  0  0  0  0  0  0  0  0]\n",
            " [10  0  0  0  0  0  0  0  0  0  0  0  0  0  0  0  0  0  0  0]\n",
            " [ 6  0  0  0  0  0  0  0  0  0  0  0  0  0  0  0  0  0  0  0]\n",
            " [13  0  0  0  0  0  0  0  0  0  0  0  0  0  0  0  0  0  0  0]\n",
            " [11  0  0  0  0  0  0  0  0  0  0  0  0  0  0  0  0  0  0  0]\n",
            " [20  0  0  0  0  0  0  0  0  0  0  0  0  0  0  0  0  0  0  0]\n",
            " [ 8  0  0  0  0  0  0  0  0  0  0  0  0  0  0  0  0  0  0  0]]\n"
          ],
          "name": "stdout"
        }
      ]
    },
    {
      "cell_type": "code",
      "metadata": {
        "id": "c6_QHhQ-LFpV",
        "colab_type": "code",
        "outputId": "43db5368-cc80-407c-8057-dc6dba84a18c",
        "colab": {
          "base_uri": "https://localhost:8080/",
          "height": 884
        }
      },
      "source": [
        "DummyClassifier2_feature_union = Pipeline([\n",
        "        ('union', FeatureUnion(\n",
        "          [\n",
        "            ('title', Pipeline([\n",
        "              ('selector', ItemSelector(key='title')),\n",
        "              ('one-hot', CountVectorizer(tokenizer=tokenize_normalize, binary=True)), \n",
        "              ])),\n",
        "            ('author', Pipeline([\n",
        "              ('selector', ItemSelector(key='author')),\n",
        "              ('one-hot', CountVectorizer(tokenizer=tokenize_normalize, binary=True)), \n",
        "              ])),\n",
        "            ('body', Pipeline([\n",
        "              ('selector', ItemSelector(key='body')),\n",
        "              ('one-hot', CountVectorizer(tokenizer=tokenize_normalize, binary=True)), \n",
        "              ])),\n",
        "        ])\n",
        "        ),\n",
        "        ('dummy2', DummyClassifier(strategy='stratified'))\n",
        "    ])\n",
        "DummyClassifier2_feature_union.fit(train_features,train_labels)\n",
        "#_ =evaluation_summary(\"DummyClassifier2 Union Pipeline\", DummyClassifier2_feature_union.predict(validation_features), validation_labels) \n",
        "_=evaluation_summary(\"DummyClassifier2 Union Pipeline\", DummyClassifier2_feature_union.predict(test_features), test_labels) "
      ],
      "execution_count": 12,
      "outputs": [
        {
          "output_type": "stream",
          "text": [
            "Evaluation for: DummyClassifier2 Union Pipeline\n",
            "Classifier 'DummyClassifier2 Union Pipeline' has Acc=0.110 P=0.039 R=0.040 F1=0.039\n",
            "                      precision    recall  f1-score   support\n",
            "\n",
            "           askreddit      0.250     0.241     0.246        87\n",
            "             atheism      0.000     0.000     0.000        18\n",
            "            buildapc      0.135     0.143     0.139        35\n",
            "electronic_cigarette      0.000     0.000     0.000        16\n",
            "   explainlikeimfive      0.071     0.050     0.059        20\n",
            "              gaming      0.000     0.000     0.000        12\n",
            "         hearthstone      0.000     0.000     0.000         7\n",
            "           jailbreak      0.000     0.000     0.000         6\n",
            "     leagueoflegends      0.229     0.216     0.222        51\n",
            "              movies      0.000     0.000     0.000         6\n",
            "        pcmasterrace      0.043     0.083     0.057        12\n",
            "     personalfinance      0.000     0.000     0.000         8\n",
            "          reddit.com      0.000     0.000     0.000         9\n",
            "       relationships      0.000     0.000     0.000        14\n",
            "           starcraft      0.000     0.000     0.000         8\n",
            "      summonerschool      0.000     0.000     0.000         9\n",
            "         techsupport      0.000     0.000     0.000        15\n",
            "       tipofmytongue      0.000     0.000     0.000         9\n",
            "               trees      0.050     0.062     0.056        16\n",
            "         whowouldwin      0.000     0.000     0.000         7\n",
            "\n",
            "            accuracy                          0.110       365\n",
            "           macro avg      0.039     0.040     0.039       365\n",
            "        weighted avg      0.112     0.110     0.110       365\n",
            "\n",
            "\n",
            "Confusion matrix:\n",
            " [[21  2 10  3  6  4  3  2 12  1  2  3  1  3  1  2  1  1  4  2]\n",
            " [ 0  0  1  0  0  0  0  1  2  0  2  0  1  1  0  0  0  0  2  2]\n",
            " [ 9  0  5  3  1  1  0  1  5  0  2  1  0  0  1  0  2  4  2  0]\n",
            " [ 2  2  0  0  0  0  0  0  1  0  1  0  0  2  0  0  1  0  0  0]\n",
            " [ 1  0  1  1  1  0  1  1  4  0  0  0  1  1  0  0  0  1  1  0]\n",
            " [ 4  0  1  1  0  0  2  0  3  1  2  1  0  0  0  2  0  0  0  0]\n",
            " [ 2  2  1  0  1  1  0  0  1  0  1  1  1  0  1  0  2  0  0  1]\n",
            " [ 3  0  2  1  0  1  0  0  0  0  0  0  1  1  0  1  0  0  1  0]\n",
            " [10  2  2  2  4  2  0  1 11  0  0  1  1  0  4  1  4  1  1  1]\n",
            " [ 4  0  1  0  0  0  0  0  0  0  0  0  0  0  0  0  0  0  0  0]\n",
            " [ 5  3  2  0  1  0  0  0  2  2  1  0  2  0  0  1  1  0  2  1]\n",
            " [ 1  2  1  1  2  0  0  0  2  0  0  0  0  0  0  0  1  0  0  0]\n",
            " [ 1  2  1  1  0  0  0  0  1  0  0  0  0  0  0  0  0  0  0  0]\n",
            " [ 1  0  2  0  0  0  0  0  1  0  0  0  0  0  0  0  1  0  1  0]\n",
            " [ 6  0  1  0  1  0  0  0  0  0  0  0  0  1  0  1  0  0  0  0]\n",
            " [ 2  1  0  0  1  1  0  0  0  1  0  0  0  0  0  0  0  0  0  0]\n",
            " [ 3  0  2  0  1  0  0  0  2  0  1  1  0  0  0  1  0  2  0  0]\n",
            " [ 4  0  0  0  0  1  1  0  1  1  0  0  0  1  0  0  2  0  0  0]\n",
            " [ 8  2  2  1  1  0  0  0  1  0  0  0  0  4  0  0  0  0  1  0]\n",
            " [ 0  0  0  2  0  1  0  0  2  0  0  0  1  0  1  0  0  0  1  0]]\n"
          ],
          "name": "stdout"
        }
      ]
    },
    {
      "cell_type": "code",
      "metadata": {
        "id": "c6S-NZtuLGBj",
        "colab_type": "code",
        "outputId": "8a969128-a891-4e0b-b289-f37fa332cfb6",
        "colab": {
          "base_uri": "https://localhost:8080/",
          "height": 1000
        }
      },
      "source": [
        "from sklearn.linear_model import LogisticRegression\n",
        "from sklearn.feature_extraction.text import TfidfVectorizer\n",
        "from sklearn.metrics import plot_confusion_matrix\n",
        "import matplotlib.pyplot as plt\n",
        "LR_OneHot_feature_union = Pipeline([\n",
        "        ('union', FeatureUnion(\n",
        "          [\n",
        "            ('title', Pipeline([\n",
        "              ('selector', ItemSelector(key='title')),\n",
        "              ('one-hot', CountVectorizer(tokenizer=tokenize_normalize, binary=True)), \n",
        "              ])),\n",
        "            ('author', Pipeline([\n",
        "              ('selector', ItemSelector(key='author')),\n",
        "              ('one-hot',   CountVectorizer(tokenizer=tokenize_normalize, binary=True)), \n",
        "              ])),\n",
        "            ('body', Pipeline([\n",
        "              ('selector', ItemSelector(key='body')),\n",
        "              ('one-hot', CountVectorizer(tokenizer=tokenize_normalize, binary=True)), \n",
        "              ])),\n",
        "        ])\n",
        "        ),\n",
        "        ('LR_OneHot', LogisticRegression())\n",
        "    ])\n",
        "LR_OneHot_feature_union.fit(train_features,train_labels)\n",
        "#_=evaluation_summary(\"LR-OneHot Union Pipeline\", LR_OneHot_feature_union.predict(validation_features), validation_labels) \n",
        "_=best_f1_score = evaluation_summary(\"LR-OneHot Union Pipeline\", LR_OneHot_feature_union.predict(test_features), test_labels)  \n",
        "disp = plot_confusion_matrix(LR_OneHot_feature_union, test_features, test_labels,\n",
        "                                 display_labels=test_labels.unique(),\n",
        "                                 cmap=plt.cm.Blues)\n",
        "plt.xticks(rotation=90)\n",
        "plt.title(\"Confusion matrix for the best classifier on F1 score\")\n",
        "\n",
        "LR_TFIDF_feature_union = Pipeline([\n",
        "        ('union', FeatureUnion(\n",
        "          [\n",
        "            ('title', Pipeline([\n",
        "              ('selector', ItemSelector(key='title')),\n",
        "              ('tfidf', TfidfVectorizer(tokenizer=tokenize_normalize)),  \n",
        "              ])),\n",
        "            ('author', Pipeline([\n",
        "              ('selector', ItemSelector(key='author')),\n",
        "              ('tfidf', TfidfVectorizer(tokenizer=tokenize_normalize)), \n",
        "              ])),\n",
        "            ('body', Pipeline([\n",
        "              ('selector', ItemSelector(key='body')),\n",
        "              ('tfidf', TfidfVectorizer(tokenizer=tokenize_normalize)),  \n",
        "              ])),\n",
        "        ])\n",
        "        ),\n",
        "        ('LR_TFIDF', LogisticRegression())\n",
        "    ])\n",
        "LR_TFIDF_feature_union.fit(train_features,train_labels)\n",
        "#_ = evaluation_summary(\"LR_TFIDF Union Pipeline\", LR_TFIDF_feature_union.predict(validation_features), validation_labels) \n",
        "_ = evaluation_summary(\"LR_TFIDF Union Pipeline\", LR_TFIDF_feature_union.predict(test_features), test_labels) "
      ],
      "execution_count": 15,
      "outputs": [
        {
          "output_type": "stream",
          "text": [
            "Evaluation for: LR-OneHot Union Pipeline\n",
            "Classifier 'LR-OneHot Union Pipeline' has Acc=0.630 P=0.507 R=0.655 F1=0.540\n",
            "                      precision    recall  f1-score   support\n",
            "\n",
            "           askreddit      0.917     0.597     0.723       129\n",
            "             atheism      0.333     0.667     0.444         6\n",
            "            buildapc      0.757     0.824     0.789        34\n",
            "electronic_cigarette      0.778     0.778     0.778         9\n",
            "   explainlikeimfive      0.500     0.583     0.538        12\n",
            "              gaming      0.235     0.250     0.242        16\n",
            "         hearthstone      0.400     1.000     0.571         6\n",
            "           jailbreak      0.455     1.000     0.625         5\n",
            "     leagueoflegends      0.875     0.560     0.683        75\n",
            "              movies      0.400     0.667     0.500         3\n",
            "        pcmasterrace      0.217     0.455     0.294        11\n",
            "     personalfinance      0.900     1.000     0.947         9\n",
            "          reddit.com      0.000     0.000     0.000         0\n",
            "       relationships      1.000     0.857     0.923         7\n",
            "           starcraft      0.000     0.000     0.000         0\n",
            "      summonerschool      0.333     1.000     0.500         2\n",
            "         techsupport      0.769     0.556     0.645        18\n",
            "       tipofmytongue      0.545     0.667     0.600         9\n",
            "               trees      0.350     0.636     0.452        11\n",
            "         whowouldwin      0.375     1.000     0.545         3\n",
            "\n",
            "            accuracy                          0.630       365\n",
            "           macro avg      0.507     0.655     0.540       365\n",
            "        weighted avg      0.757     0.630     0.664       365\n",
            "\n",
            "\n",
            "Confusion matrix:\n",
            " [[77  0  0  0  3  3  0  0  1  0  0  0  0  0  0  0  0  0  0  0]\n",
            " [ 5  4  0  0  1  0  0  0  0  0  0  0  0  0  0  0  1  0  1  0]\n",
            " [ 2  0 28  1  0  0  0  0  2  0  1  0  0  0  0  0  3  0  0  0]\n",
            " [ 1  0  0  7  0  0  0  0  0  0  1  0  0  0  0  0  0  0  0  0]\n",
            " [ 4  0  0  0  7  1  0  0  2  0  0  0  0  0  0  0  0  0  0  0]\n",
            " [ 4  0  0  0  0  4  0  0  5  1  2  0  0  0  0  0  0  1  0  0]\n",
            " [ 2  1  0  0  0  1  6  0  2  0  0  0  0  1  0  0  0  0  2  0]\n",
            " [ 3  0  0  0  0  0  0  5  2  0  0  0  0  0  0  0  0  1  0  0]\n",
            " [ 4  0  0  0  0  1  0  0 42  0  1  0  0  0  0  0  0  0  0  0]\n",
            " [ 3  0  0  0  0  0  0  0  0  2  0  0  0  0  0  0  0  0  0  0]\n",
            " [ 5  0  5  0  0  3  0  0  1  0  5  0  0  0  0  0  4  0  0  0]\n",
            " [ 1  0  0  0  0  0  0  0  0  0  0  9  0  0  0  0  0  0  0  0]\n",
            " [ 2  0  0  0  1  0  0  0  0  0  1  0  0  0  0  0  0  1  1  0]\n",
            " [ 0  0  0  0  0  0  0  0  0  0  0  0  0  6  0  0  0  0  0  0]\n",
            " [ 1  0  0  1  0  3  0  0  5  0  0  0  0  0  0  0  0  0  0  0]\n",
            " [ 0  0  0  0  0  0  0  0  4  0  0  0  0  0  0  2  0  0  0  0]\n",
            " [ 1  0  1  0  0  0  0  0  1  0  0  0  0  0  0  0 10  0  0  0]\n",
            " [ 4  0  0  0  0  0  0  0  1  0  0  0  0  0  0  0  0  6  0  0]\n",
            " [ 8  0  0  0  0  0  0  0  5  0  0  0  0  0  0  0  0  0  7  0]\n",
            " [ 2  1  0  0  0  0  0  0  2  0  0  0  0  0  0  0  0  0  0  3]]\n",
            "Evaluation for: LR_TFIDF Union Pipeline\n",
            "Classifier 'LR_TFIDF Union Pipeline' has Acc=0.488 P=0.284 R=0.602 F1=0.321\n",
            "                      precision    recall  f1-score   support\n",
            "\n",
            "           askreddit      0.976     0.376     0.543       218\n",
            "             atheism      0.000     0.000     0.000         0\n",
            "            buildapc      0.757     0.757     0.757        37\n",
            "electronic_cigarette      0.333     0.750     0.462         4\n",
            "   explainlikeimfive      0.214     0.600     0.316         5\n",
            "              gaming      0.118     0.667     0.200         3\n",
            "         hearthstone      0.067     1.000     0.125         1\n",
            "           jailbreak      0.091     1.000     0.167         1\n",
            "     leagueoflegends      0.667     0.478     0.557        67\n",
            "              movies      0.000     0.000     0.000         0\n",
            "        pcmasterrace      0.087     0.667     0.154         3\n",
            "     personalfinance      0.600     1.000     0.750         6\n",
            "          reddit.com      0.000     0.000     0.000         0\n",
            "       relationships      0.667     1.000     0.800         4\n",
            "           starcraft      0.000     0.000     0.000         0\n",
            "      summonerschool      0.000     0.000     0.000         0\n",
            "         techsupport      0.462     0.750     0.571         8\n",
            "       tipofmytongue      0.364     1.000     0.533         4\n",
            "               trees      0.150     1.000     0.261         3\n",
            "         whowouldwin      0.125     1.000     0.222         1\n",
            "\n",
            "            accuracy                          0.488       365\n",
            "           macro avg      0.284     0.602     0.321       365\n",
            "        weighted avg      0.824     0.488     0.559       365\n",
            "\n",
            "\n",
            "Confusion matrix:\n",
            " [[82  0  0  0  1  1  0  0  0  0  0  0  0  0  0  0  0  0  0  0]\n",
            " [11  0  0  0  1  0  0  0  0  0  0  0  0  0  0  0  0  0  0  0]\n",
            " [ 7  0 28  0  0  0  0  0  1  0  0  0  0  0  0  0  1  0  0  0]\n",
            " [ 4  0  1  3  0  0  0  0  1  0  0  0  0  0  0  0  0  0  0  0]\n",
            " [11  0  0  0  3  0  0  0  0  0  0  0  0  0  0  0  0  0  0  0]\n",
            " [11  0  0  0  0  2  0  0  4  0  0  0  0  0  0  0  0  0  0  0]\n",
            " [ 6  0  1  0  0  0  1  0  7  0  0  0  0  0  0  0  0  0  0  0]\n",
            " [ 9  0  0  0  0  0  0  1  1  0  0  0  0  0  0  0  0  0  0  0]\n",
            " [15  0  0  0  0  0  0  0 32  0  1  0  0  0  0  0  0  0  0  0]\n",
            " [ 5  0  0  0  0  0  0  0  0  0  0  0  0  0  0  0  0  0  0  0]\n",
            " [12  0  5  0  0  0  0  0  3  0  2  0  0  0  0  0  1  0  0  0]\n",
            " [ 3  0  1  0  0  0  0  0  0  0  0  6  0  0  0  0  0  0  0  0]\n",
            " [ 5  0  0  0  0  0  0  0  1  0  0  0  0  0  0  0  0  0  0  0]\n",
            " [ 2  0  0  0  0  0  0  0  0  0  0  0  0  4  0  0  0  0  0  0]\n",
            " [ 5  0  0  1  0  0  0  0  4  0  0  0  0  0  0  0  0  0  0  0]\n",
            " [ 1  0  0  0  0  0  0  0  5  0  0  0  0  0  0  0  0  0  0  0]\n",
            " [ 4  0  1  0  0  0  0  0  2  0  0  0  0  0  0  0  6  0  0  0]\n",
            " [ 7  0  0  0  0  0  0  0  0  0  0  0  0  0  0  0  0  4  0  0]\n",
            " [14  0  0  0  0  0  0  0  3  0  0  0  0  0  0  0  0  0  3  0]\n",
            " [ 4  0  0  0  0  0  0  0  3  0  0  0  0  0  0  0  0  0  0  1]]\n"
          ],
          "name": "stdout"
        },
        {
          "output_type": "display_data",
          "data": {
            "image/png": "[encoded data removed]",
            "text/plain": [
              "<Figure size 432x288 with 2 Axes>"
            ]
          },
          "metadata": {
            "tags": []
          }
        }
      ]
    },
    {
      "cell_type": "code",
      "metadata": {
        "id": "1c_wvoA_Mv8m",
        "colab_type": "code",
        "outputId": "c4f06c23-24fa-4b86-9bed-5b39b37ff3b9",
        "colab": {
          "base_uri": "https://localhost:8080/",
          "height": 884
        }
      },
      "source": [
        "from sklearn.svm import SVC\n",
        "\n",
        "svm_feature_union = Pipeline([\n",
        "        ('union', FeatureUnion(\n",
        "          [\n",
        "            ('title', Pipeline([\n",
        "              ('selector', ItemSelector(key='title')),\n",
        "              ('one-hot', CountVectorizer(tokenizer=tokenize_normalize, binary=True)), \n",
        "              ])),\n",
        "            ('author', Pipeline([\n",
        "              ('selector', ItemSelector(key='author')),\n",
        "              ('one-hot', CountVectorizer(tokenizer=tokenize_normalize, binary=True)), \n",
        "              ])),\n",
        "            ('body', Pipeline([\n",
        "              ('selector', ItemSelector(key='body')),\n",
        "              ('one-hot', CountVectorizer(tokenizer=tokenize_normalize, binary=True)), \n",
        "              ])),\n",
        "        ])\n",
        "        ),\n",
        "        ('svm', SVC())\n",
        "    ])\n",
        "svm_feature_union.fit(train_features,train_labels)\n",
        "#_=evaluation_summary(\"SVM Union Pipeline\", svm_feature_union.predict(validation_features), validation_labels) \n",
        "_=evaluation_summary(\"SVM Union Pipeline\", svm_feature_union.predict(test_features), test_labels) "
      ],
      "execution_count": 0,
      "outputs": [
        {
          "output_type": "stream",
          "text": [
            "Evaluation for: SVM Union Pipeline\n",
            "Classifier 'SVM Union Pipeline' has Acc=0.416 P=0.142 R=0.162 F1=0.118\n",
            "                      precision    recall  f1-score   support\n",
            "\n",
            "           askreddit      0.976     0.350     0.516       234\n",
            "             atheism      0.000     0.000     0.000         0\n",
            "            buildapc      0.649     0.774     0.706        31\n",
            "electronic_cigarette      0.000     0.000     0.000         0\n",
            "   explainlikeimfive      0.000     0.000     0.000         0\n",
            "              gaming      0.000     0.000     0.000         0\n",
            "         hearthstone      0.000     0.000     0.000         0\n",
            "           jailbreak      0.000     0.000     0.000         0\n",
            "     leagueoflegends      0.896     0.448     0.597        96\n",
            "              movies      0.000     0.000     0.000         0\n",
            "        pcmasterrace      0.000     0.000     0.000         0\n",
            "     personalfinance      0.000     0.000     0.000         0\n",
            "          reddit.com      0.000     0.000     0.000         0\n",
            "       relationships      0.167     1.000     0.286         1\n",
            "           starcraft      0.000     0.000     0.000         0\n",
            "      summonerschool      0.000     0.000     0.000         0\n",
            "         techsupport      0.154     0.667     0.250         3\n",
            "       tipofmytongue      0.000     0.000     0.000         0\n",
            "               trees      0.000     0.000     0.000         0\n",
            "         whowouldwin      0.000     0.000     0.000         0\n",
            "\n",
            "            accuracy                          0.416       365\n",
            "           macro avg      0.142     0.162     0.118       365\n",
            "        weighted avg      0.918     0.416     0.550       365\n",
            "\n",
            "\n",
            "Confusion matrix:\n",
            " [[82  0  0  0  0  0  0  0  2  0  0  0  0  0  0  0  0  0  0  0]\n",
            " [12  0  0  0  0  0  0  0  0  0  0  0  0  0  0  0  0  0  0  0]\n",
            " [ 9  0 24  0  0  0  0  0  4  0  0  0  0  0  0  0  0  0  0  0]\n",
            " [ 9  0  0  0  0  0  0  0  0  0  0  0  0  0  0  0  0  0  0  0]\n",
            " [13  0  0  0  0  0  0  0  1  0  0  0  0  0  0  0  0  0  0  0]\n",
            " [10  0  0  0  0  0  0  0  7  0  0  0  0  0  0  0  0  0  0  0]\n",
            " [ 7  0  0  0  0  0  0  0  8  0  0  0  0  0  0  0  0  0  0  0]\n",
            " [ 8  0  0  0  0  0  0  0  3  0  0  0  0  0  0  0  0  0  0  0]\n",
            " [ 5  0  0  0  0  0  0  0 43  0  0  0  0  0  0  0  0  0  0  0]\n",
            " [ 5  0  0  0  0  0  0  0  0  0  0  0  0  0  0  0  0  0  0  0]\n",
            " [12  0  5  0  0  0  0  0  5  0  0  0  0  0  0  0  1  0  0  0]\n",
            " [10  0  0  0  0  0  0  0  0  0  0  0  0  0  0  0  0  0  0  0]\n",
            " [ 6  0  0  0  0  0  0  0  0  0  0  0  0  0  0  0  0  0  0  0]\n",
            " [ 5  0  0  0  0  0  0  0  0  0  0  0  0  1  0  0  0  0  0  0]\n",
            " [ 6  0  0  0  0  0  0  0  4  0  0  0  0  0  0  0  0  0  0  0]\n",
            " [ 0  0  0  0  0  0  0  0  6  0  0  0  0  0  0  0  0  0  0  0]\n",
            " [ 5  0  2  0  0  0  0  0  4  0  0  0  0  0  0  0  2  0  0  0]\n",
            " [10  0  0  0  0  0  0  0  1  0  0  0  0  0  0  0  0  0  0  0]\n",
            " [15  0  0  0  0  0  0  0  5  0  0  0  0  0  0  0  0  0  0  0]\n",
            " [ 5  0  0  0  0  0  0  0  3  0  0  0  0  0  0  0  0  0  0  0]]\n"
          ],
          "name": "stdout"
        }
      ]
    },
    {
      "cell_type": "code",
      "metadata": {
        "id": "G4LCmJkN5lQU",
        "colab_type": "code",
        "outputId": "83cf2903-6207-4a62-b62e-89067d0dff0d",
        "colab": {
          "base_uri": "https://localhost:8080/",
          "height": 884
        }
      },
      "source": [
        "from sklearn.ensemble  import RandomForestClassifier\n",
        "\n",
        "RandomForestClassifier_union = Pipeline([\n",
        "        ('union', FeatureUnion(\n",
        "          [\n",
        "            ('title', Pipeline([\n",
        "              ('selector', ItemSelector(key='title')),\n",
        "              ('one-hot', CountVectorizer(tokenizer=tokenize_normalize, binary=True)), \n",
        "              ])),\n",
        "            ('author', Pipeline([\n",
        "              ('selector', ItemSelector(key='author')),\n",
        "              ('one-hot', CountVectorizer(tokenizer=tokenize_normalize, binary=True)), \n",
        "              ])),\n",
        "            ('body', Pipeline([\n",
        "              ('selector', ItemSelector(key='body')),\n",
        "              ('one-hot', CountVectorizer(tokenizer=tokenize_normalize, binary=True)), \n",
        "              ])),\n",
        "        ])\n",
        "        ),\n",
        "        ('RandomForestClassifier', RandomForestClassifier())\n",
        "    ])\n",
        "RandomForestClassifier_union.fit(train_features,train_labels)\n",
        "#_=evaluation_summary(\"RandomForestClassifier Union Pipeline\", RandomForestClassifier_union.predict(validation_features), validation_labels) \n",
        "_=evaluation_summary(\"RandomForestClassifier Union Pipeline\", RandomForestClassifier_union.predict(test_features), test_labels) "
      ],
      "execution_count": 0,
      "outputs": [
        {
          "output_type": "stream",
          "text": [
            "Evaluation for: RandomForestClassifier Union Pipeline\n",
            "Classifier 'RandomForestClassifier Union Pipeline' has Acc=0.512 P=0.317 R=0.622 F1=0.338\n",
            "                      precision    recall  f1-score   support\n",
            "\n",
            "           askreddit      0.952     0.392     0.556       204\n",
            "             atheism      0.083     1.000     0.154         1\n",
            "            buildapc      0.757     0.757     0.757        37\n",
            "electronic_cigarette      0.889     1.000     0.941         8\n",
            "   explainlikeimfive      0.000     0.000     0.000         1\n",
            "              gaming      0.000     0.000     0.000         2\n",
            "         hearthstone      0.200     1.000     0.333         3\n",
            "           jailbreak      0.273     1.000     0.429         3\n",
            "     leagueoflegends      0.854     0.506     0.636        81\n",
            "              movies      0.000     0.000     0.000         0\n",
            "        pcmasterrace      0.043     1.000     0.083         1\n",
            "     personalfinance      0.600     1.000     0.750         6\n",
            "          reddit.com      0.000     0.000     0.000         0\n",
            "       relationships      0.833     1.000     0.909         5\n",
            "           starcraft      0.000     0.000     0.000         0\n",
            "      summonerschool      0.000     0.000     0.000         0\n",
            "         techsupport      0.538     0.778     0.636         9\n",
            "       tipofmytongue      0.091     1.000     0.167         1\n",
            "               trees      0.100     1.000     0.182         2\n",
            "         whowouldwin      0.125     1.000     0.222         1\n",
            "\n",
            "            accuracy                          0.512       365\n",
            "           macro avg      0.317     0.622     0.338       365\n",
            "        weighted avg      0.858     0.512     0.598       365\n",
            "\n",
            "\n",
            "Confusion matrix:\n",
            " [[80  0  0  0  0  2  0  0  2  0  0  0  0  0  0  0  0  0  0  0]\n",
            " [11  1  0  0  0  0  0  0  0  0  0  0  0  0  0  0  0  0  0  0]\n",
            " [ 8  0 28  0  0  0  0  0  1  0  0  0  0  0  0  0  0  0  0  0]\n",
            " [ 1  0  0  8  0  0  0  0  0  0  0  0  0  0  0  0  0  0  0  0]\n",
            " [12  0  0  0  0  0  0  0  2  0  0  0  0  0  0  0  0  0  0  0]\n",
            " [ 8  0  0  0  0  0  0  0  9  0  0  0  0  0  0  0  0  0  0  0]\n",
            " [10  0  0  0  0  0  3  0  2  0  0  0  0  0  0  0  0  0  0  0]\n",
            " [ 6  0  0  0  0  0  0  3  2  0  0  0  0  0  0  0  0  0  0  0]\n",
            " [ 7  0  0  0  0  0  0  0 41  0  0  0  0  0  0  0  0  0  0  0]\n",
            " [ 5  0  0  0  0  0  0  0  0  0  0  0  0  0  0  0  0  0  0  0]\n",
            " [ 8  0  8  0  0  0  0  0  4  0  1  0  0  0  0  0  2  0  0  0]\n",
            " [ 4  0  0  0  0  0  0  0  0  0  0  6  0  0  0  0  0  0  0  0]\n",
            " [ 6  0  0  0  0  0  0  0  0  0  0  0  0  0  0  0  0  0  0  0]\n",
            " [ 1  0  0  0  0  0  0  0  0  0  0  0  0  5  0  0  0  0  0  0]\n",
            " [ 5  0  0  0  0  0  0  0  5  0  0  0  0  0  0  0  0  0  0  0]\n",
            " [ 0  0  0  0  0  0  0  0  6  0  0  0  0  0  0  0  0  0  0  0]\n",
            " [ 2  0  1  0  1  0  0  0  2  0  0  0  0  0  0  0  7  0  0  0]\n",
            " [ 9  0  0  0  0  0  0  0  1  0  0  0  0  0  0  0  0  1  0  0]\n",
            " [14  0  0  0  0  0  0  0  4  0  0  0  0  0  0  0  0  0  2  0]\n",
            " [ 7  0  0  0  0  0  0  0  0  0  0  0  0  0  0  0  0  0  0  1]]\n"
          ],
          "name": "stdout"
        }
      ]
    },
    {
      "cell_type": "code",
      "metadata": {
        "id": "IvPDkyJd5lkp",
        "colab_type": "code",
        "outputId": "efec70d2-117e-4769-b924-9db320f0153e",
        "colab": {
          "base_uri": "https://localhost:8080/",
          "height": 743
        }
      },
      "source": [
        "import matplotlib.pyplot as plt\n",
        "import numpy as np\n",
        "\n",
        "names = []\n",
        "scores = []\n",
        "for key in best_f1_score.keys():\n",
        "  if key == \"accuracy\":\n",
        "    continue\n",
        "  names.append(key)\n",
        "  val = best_f1_score[key]['f1-score']\n",
        "  scores.append(val)\n",
        "width = 0.2\n",
        "ind = np.arange(len(names))\n",
        "fg = plt.figure(figsize=(20,10))\n",
        "ax = fg.add_axes([0.1,0.1,0.8,0.8])\n",
        "ax.bar(ind-width/2,scores,width)\n",
        "ax.set_title(\"F1 Score per Class\")\n",
        "ax.set_ylabel('F1 Score')\n",
        "ax.set_xlabel(\"Subreddit\")\n",
        "ax.set_xticklabels(names)\n",
        "plt.xticks(ind,rotation=90)\n",
        "plt.show()"
      ],
      "execution_count": 0,
      "outputs": [
        {
          "output_type": "display_data",
          "data": {
            "image/png": "[encoded data removed]",
            "text/plain": [
              "<Figure size 1440x720 with 1 Axes>"
            ]
          },
          "metadata": {
            "tags": []
          }
        }
      ]
    },
    {
      "cell_type": "markdown",
      "metadata": {
        "id": "Ul6wV9Osw4Sp",
        "colab_type": "text"
      },
      "source": [
        "##Q2"
      ]
    },
    {
      "cell_type": "markdown",
      "metadata": {
        "id": "EoEIn69R1gxT",
        "colab_type": "text"
      },
      "source": [
        "Tuning C Value"
      ]
    },
    {
      "cell_type": "code",
      "metadata": {
        "id": "rE0x5Vsvw1QC",
        "colab_type": "code",
        "outputId": "cb05499c-4de7-4c61-d8f7-1575d2571958",
        "colab": {
          "base_uri": "https://localhost:8080/",
          "height": 34
        }
      },
      "source": [
        "cmax = 0\n",
        "best_acc = 0\n",
        "cvalues = [0.1,1.0,10.0,100.0,1000.0,100000.0]\n",
        "for cval in cvalues:\n",
        "  LR_TFIDF_feature_union = Pipeline([\n",
        "          ('union', FeatureUnion(\n",
        "            [\n",
        "              ('title', Pipeline([\n",
        "                ('selector', ItemSelector(key='title')),\n",
        "                ('tfidf', TfidfVectorizer()),  \n",
        "                ])),\n",
        "              ('author', Pipeline([\n",
        "                ('selector', ItemSelector(key='author')),\n",
        "                ('tfidf', TfidfVectorizer()), \n",
        "                ])),\n",
        "              ('body', Pipeline([\n",
        "                ('selector', ItemSelector(key='body')),\n",
        "                ('tfidf', TfidfVectorizer()),  \n",
        "                ])),\n",
        "          ])\n",
        "          ),\n",
        "          ('LR_TFIDF', LogisticRegression(C=cval))\n",
        "      ])\n",
        "  LR_TFIDF_feature_union.fit(train_features,train_labels)\n",
        "  temp_acc = accuracy_score(LR_TFIDF_feature_union.predict(validation_features), validation_labels) \n",
        "  if temp_acc > best_acc:\n",
        "    cmax = cval\n",
        "    best_acc = temp_acc\n",
        "print(best_acc,cmax)"
      ],
      "execution_count": 0,
      "outputs": [
        {
          "output_type": "stream",
          "text": [
            "0.613013698630137 100000.0\n"
          ],
          "name": "stdout"
        }
      ]
    },
    {
      "cell_type": "code",
      "metadata": {
        "id": "1DYbqh83w1aZ",
        "colab_type": "code",
        "outputId": "7685b487-2f1d-4a97-f17b-c39de3856667",
        "colab": {
          "base_uri": "https://localhost:8080/",
          "height": 34
        }
      },
      "source": [
        "max_max_features = 0\n",
        "best_acc = 0\n",
        "max_features_values = [100,1000,5000,10000,20000,]\n",
        "for mfeatures in max_features_values:\n",
        "  LR_TFIDF_feature_union = Pipeline([\n",
        "          ('union', FeatureUnion(\n",
        "            [\n",
        "              ('title', Pipeline([\n",
        "                ('selector', ItemSelector(key='title')),\n",
        "                ('tfidf', TfidfVectorizer(max_features=mfeatures)),  \n",
        "                ])),\n",
        "              ('author', Pipeline([\n",
        "                ('selector', ItemSelector(key='author')),\n",
        "                ('tfidf', TfidfVectorizer(max_features=mfeatures)), \n",
        "                ])),\n",
        "              ('body', Pipeline([\n",
        "                ('selector', ItemSelector(key='body')),\n",
        "                ('tfidf', TfidfVectorizer(max_features=mfeatures)),  \n",
        "                ])),\n",
        "          ])\n",
        "          ),\n",
        "          ('LR_TFIDF', LogisticRegression(C=cmax))\n",
        "      ])\n",
        "  LR_TFIDF_feature_union.fit(train_features,train_labels)\n",
        "  temp_acc = accuracy_score(LR_TFIDF_feature_union.predict(validation_features), validation_labels) \n",
        "  if temp_acc > best_acc:\n",
        "    max_max_features = mfeatures\n",
        "    best_acc = temp_acc\n",
        "print(best_acc,max_max_features)"
      ],
      "execution_count": 0,
      "outputs": [
        {
          "output_type": "stream",
          "text": [
            "0.678082191780822 1000\n"
          ],
          "name": "stdout"
        }
      ]
    },
    {
      "cell_type": "code",
      "metadata": {
        "id": "GVoexB30w1i5",
        "colab_type": "code",
        "outputId": "2f1802f5-5231-4312-9a4a-619e99445d8f",
        "colab": {
          "base_uri": "https://localhost:8080/",
          "height": 34
        }
      },
      "source": [
        "max_sublinear_tf = 0\n",
        "best_acc = 0\n",
        "sublinear_tf_values = [True,False]\n",
        "for stf in sublinear_tf_values:\n",
        "  LR_TFIDF_feature_union = Pipeline([\n",
        "          ('union', FeatureUnion(\n",
        "            [\n",
        "              ('title', Pipeline([\n",
        "                ('selector', ItemSelector(key='title')),\n",
        "                ('tfidf', TfidfVectorizer(max_features=max_max_features,sublinear_tf=stf)),  \n",
        "                ])),\n",
        "              ('author', Pipeline([\n",
        "                ('selector', ItemSelector(key='author')),\n",
        "                ('tfidf', TfidfVectorizer(max_features=max_max_features,sublinear_tf=stf)), \n",
        "                ])),\n",
        "              ('body', Pipeline([\n",
        "                ('selector', ItemSelector(key='body')),\n",
        "                ('tfidf', TfidfVectorizer(max_features=max_max_features,sublinear_tf=stf)),  \n",
        "                ])),\n",
        "          ])\n",
        "          ),\n",
        "          ('LR_TFIDF', LogisticRegression(C=cmax))\n",
        "      ])\n",
        "  LR_TFIDF_feature_union.fit(train_features,train_labels)\n",
        "  temp_acc = accuracy_score(LR_TFIDF_feature_union.predict(validation_features), validation_labels) \n",
        "  if temp_acc > best_acc:\n",
        "    max_sublinear_tf = stf\n",
        "    best_acc = temp_acc\n",
        "print(best_acc,max_sublinear_tf)"
      ],
      "execution_count": 0,
      "outputs": [
        {
          "output_type": "stream",
          "text": [
            "0.678082191780822 True\n"
          ],
          "name": "stdout"
        }
      ]
    },
    {
      "cell_type": "code",
      "metadata": {
        "id": "3vfHG8j7w1sZ",
        "colab_type": "code",
        "outputId": "81d90c23-7fde-4462-848c-86aeb9a96ed4",
        "colab": {
          "base_uri": "https://localhost:8080/",
          "height": 34
        }
      },
      "source": [
        "max_smooth_idf = 0\n",
        "best_acc = 0\n",
        "smooth_idf_values = [True,False]\n",
        "for sidf in smooth_idf_values:\n",
        "  LR_TFIDF_feature_union = Pipeline([\n",
        "          ('union', FeatureUnion(\n",
        "            [\n",
        "              ('title', Pipeline([\n",
        "                ('selector', ItemSelector(key='title')),\n",
        "                ('tfidf', TfidfVectorizer(max_features=max_max_features,sublinear_tf=stf,smooth_idf=sidf)),  \n",
        "                ])),\n",
        "              ('author', Pipeline([\n",
        "                ('selector', ItemSelector(key='author')),\n",
        "                ('tfidf', TfidfVectorizer(max_features=max_max_features,sublinear_tf=stf,smooth_idf=sidf)), \n",
        "                ])),\n",
        "              ('body', Pipeline([\n",
        "                ('selector', ItemSelector(key='body')),\n",
        "                ('tfidf', TfidfVectorizer(max_features=max_max_features,sublinear_tf=stf,smooth_idf=sidf)),  \n",
        "                ])),\n",
        "          ])\n",
        "          ),\n",
        "          ('LR_TFIDF', LogisticRegression(C=cmax))\n",
        "      ])\n",
        "  LR_TFIDF_feature_union.fit(train_features,train_labels)\n",
        "  temp_acc = accuracy_score(LR_TFIDF_feature_union.predict(validation_features), validation_labels) \n",
        "  if temp_acc > best_acc:\n",
        "    max_smooth_idf = sidf\n",
        "    best_acc = temp_acc\n",
        "print(best_acc,max_smooth_idf)"
      ],
      "execution_count": 0,
      "outputs": [
        {
          "output_type": "stream",
          "text": [
            "0.678082191780822 True\n"
          ],
          "name": "stdout"
        }
      ]
    },
    {
      "cell_type": "code",
      "metadata": {
        "id": "DAfZ077ow18h",
        "colab_type": "code",
        "outputId": "a5c2f7f9-8453-4a5d-b989-b71fadce3f50",
        "colab": {
          "base_uri": "https://localhost:8080/",
          "height": 884
        }
      },
      "source": [
        " LR_TFIDF_feature_union = Pipeline([\n",
        "          ('union', FeatureUnion(\n",
        "            [\n",
        "              ('title', Pipeline([\n",
        "                ('selector', ItemSelector(key='title')),\n",
        "                ('tfidf', TfidfVectorizer(max_features=max_max_features,sublinear_tf=stf,smooth_idf=max_smooth_idf)),  \n",
        "                ])),\n",
        "              ('author', Pipeline([\n",
        "                ('selector', ItemSelector(key='author')),\n",
        "                ('tfidf', TfidfVectorizer(max_features=max_max_features,sublinear_tf=stf,smooth_idf=max_smooth_idf)), \n",
        "                ])),\n",
        "              ('body', Pipeline([\n",
        "                ('selector', ItemSelector(key='body')),\n",
        "                ('tfidf', TfidfVectorizer(max_features=max_max_features,sublinear_tf=stf,smooth_idf=max_smooth_idf)),  \n",
        "                ])),\n",
        "          ])\n",
        "          ),\n",
        "          ('LR_TFIDF', LogisticRegression(C=cmax))\n",
        "      ])\n",
        "LR_TFIDF_feature_union.fit(train_features,train_labels)\n",
        "_ = evaluation_summary(\"Boosted LR_TFIDF_feature_union\", LR_TFIDF_feature_union.predict(test_features), test_labels) "
      ],
      "execution_count": 0,
      "outputs": [
        {
          "output_type": "stream",
          "text": [
            "Evaluation for: Boosted LR_TFIDF_feature_union\n",
            "Classifier 'Boosted LR_TFIDF_feature_union' has Acc=0.671 P=0.563 R=0.632 F1=0.576\n",
            "                      precision    recall  f1-score   support\n",
            "\n",
            "           askreddit      0.917     0.664     0.770       116\n",
            "             atheism      0.500     0.857     0.632         7\n",
            "            buildapc      0.865     0.780     0.821        41\n",
            "electronic_cigarette      0.778     0.875     0.824         8\n",
            "   explainlikeimfive      0.929     0.929     0.929        14\n",
            "              gaming      0.353     0.286     0.316        21\n",
            "         hearthstone      0.400     1.000     0.571         6\n",
            "           jailbreak      0.727     0.727     0.727        11\n",
            "     leagueoflegends      0.792     0.717     0.752        53\n",
            "              movies      0.200     0.500     0.286         2\n",
            "        pcmasterrace      0.087     0.286     0.133         7\n",
            "     personalfinance      0.800     1.000     0.889         8\n",
            "          reddit.com      0.000     0.000     0.000         6\n",
            "       relationships      1.000     0.857     0.923         7\n",
            "           starcraft      0.000     0.000     0.000         4\n",
            "      summonerschool      0.167     0.500     0.250         2\n",
            "         techsupport      0.615     0.571     0.593        14\n",
            "       tipofmytongue      1.000     0.917     0.957        12\n",
            "               trees      0.500     0.556     0.526        18\n",
            "         whowouldwin      0.625     0.625     0.625         8\n",
            "\n",
            "            accuracy                          0.671       365\n",
            "           macro avg      0.563     0.632     0.576       365\n",
            "        weighted avg      0.750     0.671     0.698       365\n",
            "\n",
            "\n",
            "Confusion matrix:\n",
            " [[77  1  0  0  1  3  0  0  1  0  0  0  0  0  0  0  0  0  1  0]\n",
            " [ 2  6  0  0  0  2  0  0  1  0  0  0  0  1  0  0  0  0  0  0]\n",
            " [ 2  0 32  0  0  0  0  0  0  0  0  0  0  0  0  0  2  0  0  1]\n",
            " [ 0  0  0  7  0  0  0  0  0  0  1  0  0  0  0  0  0  0  1  0]\n",
            " [ 1  0  0  0 13  0  0  0  0  0  0  0  0  0  0  0  0  0  0  0]\n",
            " [ 4  0  0  0  0  6  0  1  1  0  1  0  0  0  0  1  1  1  1  0]\n",
            " [ 2  0  1  0  0  1  6  0  2  0  0  0  0  0  1  0  0  0  2  0]\n",
            " [ 0  0  0  0  0  1  0  8  0  0  1  0  0  0  0  0  1  0  0  0]\n",
            " [ 4  0  0  0  0  3  0  0 38  1  1  0  0  0  0  0  0  0  1  0]\n",
            " [ 4  0  0  0  0  0  0  0  0  1  0  0  0  0  0  0  0  0  0  0]\n",
            " [ 6  0  6  0  0  2  0  0  2  0  2  0  1  0  1  0  2  0  0  1]\n",
            " [ 2  0  0  0  0  0  0  0  0  0  0  8  0  0  0  0  0  0  0  0]\n",
            " [ 3  0  0  0  0  0  0  0  0  0  1  0  0  0  0  0  0  0  2  0]\n",
            " [ 0  0  0  0  0  0  0  0  0  0  0  0  0  6  0  0  0  0  0  0]\n",
            " [ 2  0  0  0  0  2  0  0  3  0  0  0  2  0  0  0  0  0  0  1]\n",
            " [ 0  0  0  0  0  0  0  0  4  0  0  0  0  0  1  1  0  0  0  0]\n",
            " [ 1  0  1  1  0  0  0  2  0  0  0  0  0  0  0  0  8  0  0  0]\n",
            " [ 0  0  0  0  0  0  0  0  0  0  0  0  0  0  0  0  0 11  0  0]\n",
            " [ 4  0  1  0  0  1  0  0  1  0  0  0  2  0  1  0  0  0 10  0]\n",
            " [ 2  0  0  0  0  0  0  0  0  0  0  0  1  0  0  0  0  0  0  5]]\n"
          ],
          "name": "stdout"
        }
      ]
    },
    {
      "cell_type": "markdown",
      "metadata": {
        "id": "Z6C7PRuCB6tf",
        "colab_type": "text"
      },
      "source": [
        "## Q3"
      ]
    },
    {
      "cell_type": "code",
      "metadata": {
        "id": "mC5FfSu_w2GB",
        "colab_type": "code",
        "colab": {}
      },
      "source": [
        " \n",
        "# A function that given an input query item returns the top-k most similar items \n",
        "# by their cosine similarity.\n",
        "def find_similar(query_vector, vd_matrix, top_k = 5):\n",
        "    cosine_similarities = cosine_similarity(query_vector, vd_matrix).flatten()\n",
        "    related_doc_indices = cosine_similarities.argsort()[::-1]\n",
        "    return [(index, cosine_similarities[index]) for index in related_doc_indices][0:top_k]"
      ],
      "execution_count": 0,
      "outputs": []
    },
    {
      "cell_type": "code",
      "metadata": {
        "id": "ka6GuVhmV4GE",
        "colab_type": "code",
        "colab": {}
      },
      "source": [
        "\n",
        "class MaximumEmbeddingVectorizer(BaseEstimator, TransformerMixin):\n",
        "    def __init__(self, embedding_model):\n",
        "        self.embedding = embedding_model\n",
        "        self.dimension = embedding_model.vector_size\n",
        "\n",
        "    def fit(self, X, y):\n",
        "        return self\n",
        "      \n",
        "    def transform(self, X):  \n",
        "      # Skip OOV terms. Return 0 if no words are in the vocabulary.\n",
        "      #print (X)\n",
        "      return np.array([ \n",
        "          np.max([self.embedding[token] for token in doc if token in self.embedding]\n",
        "                or [np.zeros(self.dimension)], axis=0)\n",
        "          for doc in X\n",
        "      ])"
      ],
      "execution_count": 0,
      "outputs": []
    },
    {
      "cell_type": "code",
      "metadata": {
        "id": "_cXaTGZDWCek",
        "colab_type": "code",
        "colab": {}
      },
      "source": [
        "import gensim\n"
      ],
      "execution_count": 0,
      "outputs": []
    },
    {
      "cell_type": "code",
      "metadata": {
        "id": "PlH9jXDO-gTS",
        "colab_type": "code",
        "outputId": "1da9a979-52ff-47a6-a443-d738ad791b7b",
        "colab": {
          "base_uri": "https://localhost:8080/",
          "height": 419
        }
      },
      "source": [
        "def similiar_posts_feature(t_features,k=5):\n",
        "  all_posts_tokenized = t_features.body.apply(tokenize_normalize)\n",
        "  model = gensim.models.Word2Vec(all_posts_tokenized)\n",
        "  reddit_vectorizer = MaximumEmbeddingVectorizer(model)\n",
        "  reddit_post_vector_matrix = reddit_vectorizer.transform(all_posts_tokenized)\n",
        "  vectorizer = reddit_vectorizer\n",
        "  matrix = reddit_post_vector_matrix\n",
        "  results = []\n",
        "  for tokens in all_posts_tokenized:\n",
        "    \n",
        "    transformed = vectorizer.transform([tokens])\n",
        "    doc = transformed[0:1]\n",
        "\n",
        "    x = \"\"\n",
        "    for index, score in find_similar(doc, matrix, k)[1:]:\n",
        "      post_contents = t_features.iloc[index]['body'].replace('\\n', '')\n",
        "      x += post_contents\n",
        "    results.append(x)\n",
        "  return results\n",
        "similiar_bodies = similiar_posts_feature(train_features)\n",
        "train_features['similiar_bodies'] = similiar_bodies\n",
        "similiar_bodies = similiar_posts_feature(test_features)\n",
        "test_features['similiar_bodies'] = similiar_bodies\n",
        "test_features"
      ],
      "execution_count": 0,
      "outputs": [
        {
          "output_type": "execute_result",
          "data": {
            "text/html": [
              "<div>\n",
              "<style scoped>\n",
              "    .dataframe tbody tr th:only-of-type {\n",
              "        vertical-align: middle;\n",
              "    }\n",
              "\n",
              "    .dataframe tbody tr th {\n",
              "        vertical-align: top;\n",
              "    }\n",
              "\n",
              "    .dataframe thead th {\n",
              "        text-align: right;\n",
              "    }\n",
              "</style>\n",
              "<table border=\"1\" class=\"dataframe\">\n",
              "  <thead>\n",
              "    <tr style=\"text-align: right;\">\n",
              "      <th></th>\n",
              "      <th>title</th>\n",
              "      <th>author</th>\n",
              "      <th>body</th>\n",
              "      <th>similiar_bodies</th>\n",
              "    </tr>\n",
              "  </thead>\n",
              "  <tbody>\n",
              "    <tr>\n",
              "      <th>0</th>\n",
              "      <td>Just a reminder on how much SC2 has evolved th...</td>\n",
              "      <td>['MeisterKarl', 'smsy', 'vehemus', 'NruJaC']</td>\n",
              "      <td>[\"Was watching a VOD from last years DreamHack...</td>\n",
              "      <td>[\"Is anyone else suffering this issue? I playe...</td>\n",
              "    </tr>\n",
              "    <tr>\n",
              "      <th>1</th>\n",
              "      <td>Your Favorite Hero Now Has A Healing Factor As...</td>\n",
              "      <td>[None, 'TheAnti-Monitor', 'iamcatch22', 'blame...</td>\n",
              "      <td>['Basically what the title says.', 'Danny Phan...</td>\n",
              "      <td>['Reposting because I actually have a fairly g...</td>\n",
              "    </tr>\n",
              "    <tr>\n",
              "      <th>2</th>\n",
              "      <td>If you could live anywhere in the world, where...</td>\n",
              "      <td>['Daft-Punk', None, 'AutoModerator', 'Memithez...</td>\n",
              "      <td>['', 'On a beach someplace warm and far away f...</td>\n",
              "      <td>['Jesus travels through time to bring the word...</td>\n",
              "    </tr>\n",
              "    <tr>\n",
              "      <th>3</th>\n",
              "      <td>Do you ever get use to exercise?</td>\n",
              "      <td>['theawe_some', 'DrWallyHayes', 'IGrammarGood'...</td>\n",
              "      <td>['I start running this year. I do it frequentl...</td>\n",
              "      <td>[\"Need to somehow put Windows 8 on my new HDD....</td>\n",
              "    </tr>\n",
              "    <tr>\n",
              "      <th>4</th>\n",
              "      <td>[TOMT] [book] A scary french book for kids</td>\n",
              "      <td>[None, None, None, None, 'grapesandmilk', None]</td>\n",
              "      <td>['[deleted]', 'Could you possibly provide us a...</td>\n",
              "      <td>['I heard it at my gym but unfortunately don\\'...</td>\n",
              "    </tr>\n",
              "    <tr>\n",
              "      <th>...</th>\n",
              "      <td>...</td>\n",
              "      <td>...</td>\n",
              "      <td>...</td>\n",
              "      <td>...</td>\n",
              "    </tr>\n",
              "    <tr>\n",
              "      <th>360</th>\n",
              "      <td>Reddit Feature Suggestion: Cross posting suppo...</td>\n",
              "      <td>['magelisk', 'magelisk', 'bageloid', 'squig', ...</td>\n",
              "      <td>['Perhaps I\\'m blind but I\\'ve never seen this...</td>\n",
              "      <td>['It seems no one is talking about the Void Ra...</td>\n",
              "    </tr>\n",
              "    <tr>\n",
              "      <th>361</th>\n",
              "      <td>Interesting conversation with my wife's grandp...</td>\n",
              "      <td>['jim85541', 'UnclePutin']</td>\n",
              "      <td>[\"congrats, it doesn't always go that way. Dam...</td>\n",
              "      <td>[\"Okay so let's say you are jungler and you wa...</td>\n",
              "    </tr>\n",
              "    <tr>\n",
              "      <th>362</th>\n",
              "      <td>Brethren, how many games do you have in your g...</td>\n",
              "      <td>['Taanz', 'FrostyTheHippo', 'Lizzardspawn', 'I...</td>\n",
              "      <td>['39 on steam and roughly 20 on origin. \\n\\nCo...</td>\n",
              "      <td>['', 'Being forgotten', \"That's something you ...</td>\n",
              "    </tr>\n",
              "    <tr>\n",
              "      <th>363</th>\n",
              "      <td>[Serious] What are your thoughts on pirating?</td>\n",
              "      <td>['PotatoStalker', 'AsshatVik', 'mojave_moon', ...</td>\n",
              "      <td>['', 'Helps the industry rather than destroyin...</td>\n",
              "      <td>[\"After a long time not touching the genre (Ne...</td>\n",
              "    </tr>\n",
              "    <tr>\n",
              "      <th>364</th>\n",
              "      <td>Your favorite subreddit is a superhero. What a...</td>\n",
              "      <td>['AlexanderDivine', 'Evolve_or_Bye', 'Alexande...</td>\n",
              "      <td>['', 'Are you high?', 'Not for another 35 minu...</td>\n",
              "      <td>[\"What story/crisis/hardship drove you to stop...</td>\n",
              "    </tr>\n",
              "  </tbody>\n",
              "</table>\n",
              "<p>365 rows × 4 columns</p>\n",
              "</div>"
            ],
            "text/plain": [
              "                                                 title  ...                                    similiar_bodies\n",
              "0    Just a reminder on how much SC2 has evolved th...  ...  [\"Is anyone else suffering this issue? I playe...\n",
              "1    Your Favorite Hero Now Has A Healing Factor As...  ...  ['Reposting because I actually have a fairly g...\n",
              "2    If you could live anywhere in the world, where...  ...  ['Jesus travels through time to bring the word...\n",
              "3                     Do you ever get use to exercise?  ...  [\"Need to somehow put Windows 8 on my new HDD....\n",
              "4           [TOMT] [book] A scary french book for kids  ...  ['I heard it at my gym but unfortunately don\\'...\n",
              "..                                                 ...  ...                                                ...\n",
              "360  Reddit Feature Suggestion: Cross posting suppo...  ...  ['It seems no one is talking about the Void Ra...\n",
              "361  Interesting conversation with my wife's grandp...  ...  [\"Okay so let's say you are jungler and you wa...\n",
              "362  Brethren, how many games do you have in your g...  ...  ['', 'Being forgotten', \"That's something you ...\n",
              "363      [Serious] What are your thoughts on pirating?  ...  [\"After a long time not touching the genre (Ne...\n",
              "364  Your favorite subreddit is a superhero. What a...  ...  [\"What story/crisis/hardship drove you to stop...\n",
              "\n",
              "[365 rows x 4 columns]"
            ]
          },
          "metadata": {
            "tags": []
          },
          "execution_count": 58
        }
      ]
    },
    {
      "cell_type": "code",
      "metadata": {
        "id": "WgsR7caN-gjg",
        "colab_type": "code",
        "outputId": "acde7b73-4555-434e-fd4b-8c0a96dfd5d7",
        "colab": {
          "base_uri": "https://localhost:8080/",
          "height": 884
        }
      },
      "source": [
        " LR_TFIDF_feature_union = Pipeline([\n",
        "          ('union', FeatureUnion(\n",
        "            [\n",
        "              ('title', Pipeline([\n",
        "                ('selector', ItemSelector(key='title')),\n",
        "                ('tfidf', TfidfVectorizer(max_features=max_max_features,sublinear_tf=stf,smooth_idf=max_smooth_idf)),  \n",
        "                ])),\n",
        "              ('author', Pipeline([\n",
        "                ('selector', ItemSelector(key='author')),\n",
        "                ('tfidf', TfidfVectorizer(max_features=max_max_features,sublinear_tf=stf,smooth_idf=max_smooth_idf)), \n",
        "                ])),\n",
        "             ('similiar_bodies', Pipeline([\n",
        "                ('selector', ItemSelector(key='similiar_bodies')),\n",
        "                ('tfidf', TfidfVectorizer(max_features=max_max_features,sublinear_tf=stf,smooth_idf=max_smooth_idf)), \n",
        "                ])),\n",
        "              ('body', Pipeline([\n",
        "                ('selector', ItemSelector(key='body')),\n",
        "                ('tfidf', TfidfVectorizer(max_features=max_max_features,sublinear_tf=stf,smooth_idf=max_smooth_idf)),  \n",
        "                ])),\n",
        "          ])\n",
        "          ),\n",
        "          ('LR_TFIDF', LogisticRegression(C=cmax))\n",
        "      ])\n",
        "LR_TFIDF_feature_union.fit(train_features,train_labels)\n",
        "_ = evaluation_summary(\"Boosted LR_TFIDF_feature_union\", LR_TFIDF_feature_union.predict(test_features), test_labels)"
      ],
      "execution_count": 0,
      "outputs": [
        {
          "output_type": "stream",
          "text": [
            "Evaluation for: Boosted LR_TFIDF_feature_union\n",
            "Classifier 'Boosted LR_TFIDF_feature_union' has Acc=0.679 P=0.558 R=0.606 F1=0.563\n",
            "                      precision    recall  f1-score   support\n",
            "\n",
            "           askreddit      0.940     0.681     0.790       116\n",
            "             atheism      0.417     1.000     0.588         5\n",
            "            buildapc      0.865     0.780     0.821        41\n",
            "electronic_cigarette      0.889     0.800     0.842        10\n",
            "   explainlikeimfive      0.929     0.929     0.929        14\n",
            "              gaming      0.294     0.208     0.244        24\n",
            "         hearthstone      0.400     1.000     0.571         6\n",
            "           jailbreak      0.818     0.750     0.783        12\n",
            "     leagueoflegends      0.812     0.750     0.780        52\n",
            "              movies      0.000     0.000     0.000         1\n",
            "        pcmasterrace      0.130     0.375     0.194         8\n",
            "     personalfinance      0.800     1.000     0.889         8\n",
            "          reddit.com      0.000     0.000     0.000         3\n",
            "       relationships      1.000     0.857     0.923         7\n",
            "           starcraft      0.000     0.000     0.000         3\n",
            "      summonerschool      0.167     0.333     0.222         3\n",
            "         techsupport      0.615     0.615     0.615        13\n",
            "       tipofmytongue      0.909     0.909     0.909        11\n",
            "               trees      0.550     0.579     0.564        19\n",
            "         whowouldwin      0.625     0.556     0.588         9\n",
            "\n",
            "            accuracy                          0.679       365\n",
            "           macro avg      0.558     0.606     0.563       365\n",
            "        weighted avg      0.765     0.679     0.709       365\n",
            "\n",
            "\n",
            "Confusion matrix:\n",
            " [[79  0  0  0  0  4  0  0  0  0  0  0  0  0  0  0  0  0  1  0]\n",
            " [ 2  5  0  0  1  2  0  0  0  0  0  0  1  1  0  0  0  0  0  0]\n",
            " [ 2  0 32  0  0  0  0  0  0  0  0  0  0  0  0  0  2  0  0  1]\n",
            " [ 0  0  0  8  0  0  0  0  0  0  0  0  0  0  0  0  0  0  1  0]\n",
            " [ 1  0  0  0 13  0  0  0  0  0  0  0  0  0  0  0  0  0  0  0]\n",
            " [ 4  0  0  0  0  5  0  0  2  0  1  0  0  0  0  1  1  1  1  1]\n",
            " [ 1  0  2  0  0  1  6  0  2  0  0  0  0  0  1  0  0  0  2  0]\n",
            " [ 0  0  0  0  0  1  0  9  0  0  1  0  0  0  0  0  0  0  0  0]\n",
            " [ 4  0  0  0  0  1  0  0 39  1  1  0  0  0  0  1  0  0  1  0]\n",
            " [ 5  0  0  0  0  0  0  0  0  0  0  0  0  0  0  0  0  0  0  0]\n",
            " [ 6  0  5  0  0  3  0  1  1  0  3  0  0  0  1  0  2  0  0  1]\n",
            " [ 2  0  0  0  0  0  0  0  0  0  0  8  0  0  0  0  0  0  0  0]\n",
            " [ 3  0  0  0  0  0  0  0  0  0  1  0  0  0  0  0  0  0  2  0]\n",
            " [ 0  0  0  0  0  0  0  0  0  0  0  0  0  6  0  0  0  0  0  0]\n",
            " [ 0  0  0  1  0  5  0  0  2  0  0  0  1  0  0  0  0  0  0  1]\n",
            " [ 0  0  0  0  0  0  0  0  4  0  0  0  0  0  1  1  0  0  0  0]\n",
            " [ 1  0  1  1  0  0  0  2  0  0  0  0  0  0  0  0  8  0  0  0]\n",
            " [ 1  0  0  0  0  0  0  0  0  0  0  0  0  0  0  0  0 10  0  0]\n",
            " [ 3  0  1  0  0  2  0  0  2  0  1  0  0  0  0  0  0  0 11  0]\n",
            " [ 2  0  0  0  0  0  0  0  0  0  0  0  1  0  0  0  0  0  0  5]]\n"
          ],
          "name": "stdout"
        }
      ]
    },
    {
      "cell_type": "code",
      "metadata": {
        "id": "gRH9CIwpSOj1",
        "colab_type": "code",
        "colab": {}
      },
      "source": [
        "train_features['nbodies'] = train_features.apply(lambda row: str(len(row.body)), axis = 1)\n",
        "test_features['nbodies'] = test_features.apply(lambda row: str(len(row.body)), axis = 1)\n"
      ],
      "execution_count": 0,
      "outputs": []
    },
    {
      "cell_type": "code",
      "metadata": {
        "id": "3sPOvK4Rb77m",
        "colab_type": "code",
        "outputId": "640b197d-84c4-49cd-9f68-c415e6099787",
        "colab": {
          "base_uri": "https://localhost:8080/",
          "height": 419
        }
      },
      "source": [
        "test_features"
      ],
      "execution_count": 0,
      "outputs": [
        {
          "output_type": "execute_result",
          "data": {
            "text/html": [
              "<div>\n",
              "<style scoped>\n",
              "    .dataframe tbody tr th:only-of-type {\n",
              "        vertical-align: middle;\n",
              "    }\n",
              "\n",
              "    .dataframe tbody tr th {\n",
              "        vertical-align: top;\n",
              "    }\n",
              "\n",
              "    .dataframe thead th {\n",
              "        text-align: right;\n",
              "    }\n",
              "</style>\n",
              "<table border=\"1\" class=\"dataframe\">\n",
              "  <thead>\n",
              "    <tr style=\"text-align: right;\">\n",
              "      <th></th>\n",
              "      <th>title</th>\n",
              "      <th>author</th>\n",
              "      <th>body</th>\n",
              "      <th>similiar_bodies</th>\n",
              "      <th>nbodies</th>\n",
              "    </tr>\n",
              "  </thead>\n",
              "  <tbody>\n",
              "    <tr>\n",
              "      <th>0</th>\n",
              "      <td>Just a reminder on how much SC2 has evolved th...</td>\n",
              "      <td>['MeisterKarl', 'smsy', 'vehemus', 'NruJaC']</td>\n",
              "      <td>[\"Was watching a VOD from last years DreamHack...</td>\n",
              "      <td>[\"Is anyone else suffering this issue? I playe...</td>\n",
              "      <td>780</td>\n",
              "    </tr>\n",
              "    <tr>\n",
              "      <th>1</th>\n",
              "      <td>Your Favorite Hero Now Has A Healing Factor As...</td>\n",
              "      <td>[None, 'TheAnti-Monitor', 'iamcatch22', 'blame...</td>\n",
              "      <td>['Basically what the title says.', 'Danny Phan...</td>\n",
              "      <td>['Reposting because I actually have a fairly g...</td>\n",
              "      <td>2915</td>\n",
              "    </tr>\n",
              "    <tr>\n",
              "      <th>2</th>\n",
              "      <td>If you could live anywhere in the world, where...</td>\n",
              "      <td>['Daft-Punk', None, 'AutoModerator', 'Memithez...</td>\n",
              "      <td>['', 'On a beach someplace warm and far away f...</td>\n",
              "      <td>['Jesus travels through time to bring the word...</td>\n",
              "      <td>1648</td>\n",
              "    </tr>\n",
              "    <tr>\n",
              "      <th>3</th>\n",
              "      <td>Do you ever get use to exercise?</td>\n",
              "      <td>['theawe_some', 'DrWallyHayes', 'IGrammarGood'...</td>\n",
              "      <td>['I start running this year. I do it frequentl...</td>\n",
              "      <td>[\"Need to somehow put Windows 8 on my new HDD....</td>\n",
              "      <td>1916</td>\n",
              "    </tr>\n",
              "    <tr>\n",
              "      <th>4</th>\n",
              "      <td>[TOMT] [book] A scary french book for kids</td>\n",
              "      <td>[None, None, None, None, 'grapesandmilk', None]</td>\n",
              "      <td>['[deleted]', 'Could you possibly provide us a...</td>\n",
              "      <td>['I heard it at my gym but unfortunately don\\'...</td>\n",
              "      <td>502</td>\n",
              "    </tr>\n",
              "    <tr>\n",
              "      <th>...</th>\n",
              "      <td>...</td>\n",
              "      <td>...</td>\n",
              "      <td>...</td>\n",
              "      <td>...</td>\n",
              "      <td>...</td>\n",
              "    </tr>\n",
              "    <tr>\n",
              "      <th>360</th>\n",
              "      <td>Reddit Feature Suggestion: Cross posting suppo...</td>\n",
              "      <td>['magelisk', 'magelisk', 'bageloid', 'squig', ...</td>\n",
              "      <td>['Perhaps I\\'m blind but I\\'ve never seen this...</td>\n",
              "      <td>['It seems no one is talking about the Void Ra...</td>\n",
              "      <td>6797</td>\n",
              "    </tr>\n",
              "    <tr>\n",
              "      <th>361</th>\n",
              "      <td>Interesting conversation with my wife's grandp...</td>\n",
              "      <td>['jim85541', 'UnclePutin']</td>\n",
              "      <td>[\"congrats, it doesn't always go that way. Dam...</td>\n",
              "      <td>[\"Okay so let's say you are jungler and you wa...</td>\n",
              "      <td>694</td>\n",
              "    </tr>\n",
              "    <tr>\n",
              "      <th>362</th>\n",
              "      <td>Brethren, how many games do you have in your g...</td>\n",
              "      <td>['Taanz', 'FrostyTheHippo', 'Lizzardspawn', 'I...</td>\n",
              "      <td>['39 on steam and roughly 20 on origin. \\n\\nCo...</td>\n",
              "      <td>['', 'Being forgotten', \"That's something you ...</td>\n",
              "      <td>961</td>\n",
              "    </tr>\n",
              "    <tr>\n",
              "      <th>363</th>\n",
              "      <td>[Serious] What are your thoughts on pirating?</td>\n",
              "      <td>['PotatoStalker', 'AsshatVik', 'mojave_moon', ...</td>\n",
              "      <td>['', 'Helps the industry rather than destroyin...</td>\n",
              "      <td>[\"After a long time not touching the genre (Ne...</td>\n",
              "      <td>4499</td>\n",
              "    </tr>\n",
              "    <tr>\n",
              "      <th>364</th>\n",
              "      <td>Your favorite subreddit is a superhero. What a...</td>\n",
              "      <td>['AlexanderDivine', 'Evolve_or_Bye', 'Alexande...</td>\n",
              "      <td>['', 'Are you high?', 'Not for another 35 minu...</td>\n",
              "      <td>[\"What story/crisis/hardship drove you to stop...</td>\n",
              "      <td>395</td>\n",
              "    </tr>\n",
              "  </tbody>\n",
              "</table>\n",
              "<p>365 rows × 5 columns</p>\n",
              "</div>"
            ],
            "text/plain": [
              "                                                 title  ... nbodies\n",
              "0    Just a reminder on how much SC2 has evolved th...  ...     780\n",
              "1    Your Favorite Hero Now Has A Healing Factor As...  ...    2915\n",
              "2    If you could live anywhere in the world, where...  ...    1648\n",
              "3                     Do you ever get use to exercise?  ...    1916\n",
              "4           [TOMT] [book] A scary french book for kids  ...     502\n",
              "..                                                 ...  ...     ...\n",
              "360  Reddit Feature Suggestion: Cross posting suppo...  ...    6797\n",
              "361  Interesting conversation with my wife's grandp...  ...     694\n",
              "362  Brethren, how many games do you have in your g...  ...     961\n",
              "363      [Serious] What are your thoughts on pirating?  ...    4499\n",
              "364  Your favorite subreddit is a superhero. What a...  ...     395\n",
              "\n",
              "[365 rows x 5 columns]"
            ]
          },
          "metadata": {
            "tags": []
          },
          "execution_count": 61
        }
      ]
    },
    {
      "cell_type": "code",
      "metadata": {
        "id": "aw5QNteoSOxk",
        "colab_type": "code",
        "outputId": "01e48d3d-e305-4d61-b4a9-1ebecac744a9",
        "colab": {
          "base_uri": "https://localhost:8080/",
          "height": 1000
        }
      },
      "source": [
        "from sklearn.feature_extraction import DictVectorizer\n",
        "from sklearn.metrics import plot_confusion_matrix\n",
        "LR_TFIDF_feature_union = Pipeline([\n",
        "          ('union', FeatureUnion(\n",
        "            [\n",
        "              ('title', Pipeline([\n",
        "                ('selector', ItemSelector(key='title')),\n",
        "                ('tfidf', TfidfVectorizer(max_features=max_max_features,sublinear_tf=stf,smooth_idf=max_smooth_idf)),  \n",
        "                ])),\n",
        "              ('author', Pipeline([\n",
        "                ('selector', ItemSelector(key='author')),\n",
        "                ('tfidf', TfidfVectorizer(max_features=max_max_features,sublinear_tf=stf,smooth_idf=max_smooth_idf)), \n",
        "                ])),\n",
        "             ('similiar_bodies', Pipeline([\n",
        "                ('selector', ItemSelector(key='similiar_bodies')),\n",
        "                ('tfidf', TfidfVectorizer(max_features=max_max_features,sublinear_tf=stf,smooth_idf=max_smooth_idf)), \n",
        "                ])),\n",
        "              ('nbodies', Pipeline([\n",
        "                ('selector', ItemSelector(key='nbodies')), \n",
        "                 ('c', CountVectorizer()),\n",
        "                ])),\n",
        "              ('body', Pipeline([\n",
        "                ('selector', ItemSelector(key='body')),\n",
        "                ('tfidf', TfidfVectorizer(max_features=max_max_features,sublinear_tf=stf,smooth_idf=max_smooth_idf)),  \n",
        "                ])),\n",
        "          ])\n",
        "          ),\n",
        "          ('LR_TFIDF', LogisticRegression(C=cmax))\n",
        "      ])\n",
        "LR_TFIDF_feature_union.fit(train_features,train_labels)\n",
        "\n",
        "_ = evaluation_summary(\"Boosted LR_TFIDF_feature_union\", LR_TFIDF_feature_union.predict(test_features), test_labels)\n",
        "\n",
        "disp = plot_confusion_matrix(LR_TFIDF_feature_union, test_features, test_labels,\n",
        "                                 display_labels=test_labels.unique(),\n",
        "                                 cmap=plt.cm.Blues)\n",
        "plt.xticks(rotation=90)\n",
        "plt.title(\"Confusion matrix for the best classifier on F1 score (Neural network)\")"
      ],
      "execution_count": 0,
      "outputs": [
        {
          "output_type": "stream",
          "text": [
            "Evaluation for: Boosted LR_TFIDF_feature_union\n",
            "Classifier 'Boosted LR_TFIDF_feature_union' has Acc=0.668 P=0.536 R=0.597 F1=0.544\n",
            "                      precision    recall  f1-score   support\n",
            "\n",
            "           askreddit      0.940     0.617     0.745       128\n",
            "             atheism      0.500     0.857     0.632         7\n",
            "            buildapc      0.865     0.780     0.821        41\n",
            "electronic_cigarette      0.889     0.667     0.762        12\n",
            "   explainlikeimfive      0.929     0.929     0.929        14\n",
            "              gaming      0.235     0.222     0.229        18\n",
            "         hearthstone      0.333     1.000     0.500         5\n",
            "           jailbreak      0.636     0.778     0.700         9\n",
            "     leagueoflegends      0.854     0.732     0.788        56\n",
            "              movies      0.000     0.000     0.000         0\n",
            "        pcmasterrace      0.087     0.286     0.133         7\n",
            "     personalfinance      0.800     1.000     0.889         8\n",
            "          reddit.com      0.000     0.000     0.000         3\n",
            "       relationships      0.833     0.833     0.833         6\n",
            "           starcraft      0.000     0.000     0.000         1\n",
            "      summonerschool      0.167     0.500     0.250         2\n",
            "         techsupport      0.615     0.667     0.640        12\n",
            "       tipofmytongue      0.909     0.909     0.909        11\n",
            "               trees      0.500     0.667     0.571        15\n",
            "         whowouldwin      0.625     0.500     0.556        10\n",
            "\n",
            "            accuracy                          0.668       365\n",
            "           macro avg      0.536     0.597     0.544       365\n",
            "        weighted avg      0.783     0.668     0.707       365\n",
            "\n",
            "\n",
            "Confusion matrix:\n",
            " [[79  1  0  0  0  3  0  0  0  0  0  0  0  0  0  0  0  0  1  0]\n",
            " [ 3  6  0  0  1  1  0  0  0  0  0  0  0  1  0  0  0  0  0  0]\n",
            " [ 2  0 32  0  0  0  0  0  0  0  0  0  0  0  0  0  2  0  0  1]\n",
            " [ 0  0  0  8  0  0  0  0  0  0  0  0  0  0  0  0  0  0  1  0]\n",
            " [ 1  0  0  0 13  0  0  0  0  0  0  0  0  0  0  0  0  0  0  0]\n",
            " [ 4  0  0  2  0  4  0  0  3  0  1  0  0  0  0  1  0  1  0  1]\n",
            " [ 4  0  2  0  0  2  5  0  1  0  0  0  0  0  1  0  0  0  0  0]\n",
            " [ 1  0  0  0  0  1  0  7  0  0  1  0  0  0  0  0  1  0  0  0]\n",
            " [ 5  0  0  0  0  1  0  0 41  0  1  0  0  0  0  0  0  0  0  0]\n",
            " [ 5  0  0  0  0  0  0  0  0  0  0  0  0  0  0  0  0  0  0  0]\n",
            " [ 6  0  6  0  0  3  0  1  1  0  2  0  1  0  0  0  1  0  1  1]\n",
            " [ 2  0  0  0  0  0  0  0  0  0  0  8  0  0  0  0  0  0  0  0]\n",
            " [ 3  0  0  0  0  0  0  0  0  0  1  0  0  0  0  0  0  0  2  0]\n",
            " [ 1  0  0  0  0  0  0  0  0  0  0  0  0  5  0  0  0  0  0  0]\n",
            " [ 0  0  0  1  0  3  0  0  4  0  0  0  1  0  0  0  0  0  0  1]\n",
            " [ 0  0  0  0  0  0  0  0  4  0  0  0  0  0  0  1  0  0  0  1]\n",
            " [ 2  0  1  1  0  0  0  1  0  0  0  0  0  0  0  0  8  0  0  0]\n",
            " [ 1  0  0  0  0  0  0  0  0  0  0  0  0  0  0  0  0 10  0  0]\n",
            " [ 7  0  0  0  0  0  0  0  2  0  1  0  0  0  0  0  0  0 10  0]\n",
            " [ 2  0  0  0  0  0  0  0  0  0  0  0  1  0  0  0  0  0  0  5]]\n"
          ],
          "name": "stdout"
        },
        {
          "output_type": "execute_result",
          "data": {
            "text/plain": [
              "Text(0.5, 1.0, 'Confusion matrix for the best classifier on F1 score (Neural network)')"
            ]
          },
          "metadata": {
            "tags": []
          },
          "execution_count": 62
        },
        {
          "output_type": "display_data",
          "data": {
            "image/png": "[encoded data removed]",
            "text/plain": [
              "<Figure size 432x288 with 2 Axes>"
            ]
          },
          "metadata": {
            "tags": []
          }
        }
      ]
    },
    {
      "cell_type": "code",
      "metadata": {
        "id": "ZERPJxCJSO6d",
        "colab_type": "code",
        "colab": {}
      },
      "source": [
        ""
      ],
      "execution_count": 0,
      "outputs": []
    },
    {
      "cell_type": "markdown",
      "metadata": {
        "id": "D-G938e8D5qn",
        "colab_type": "text"
      },
      "source": [
        "# Part B: Discourse prediction ##"
      ]
    },
    {
      "cell_type": "code",
      "metadata": {
        "id": "9KM6aJtSETPY",
        "colab_type": "code",
        "outputId": "892d2162-930e-4452-b28b-dae8d65b34dd",
        "colab": {
          "base_uri": "https://localhost:8080/",
          "height": 119
        }
      },
      "source": [
        "discourse_train = \"coursework_discourse_train.json\"\n",
        "discourse_test = \"coursework_discourse_test.json\"\n",
        "  \n",
        "!gsutil cp gs://textasdata/coursework/coursework_discourse_train.json $discourse_train  \n",
        "!gsutil cp gs://textasdata/coursework/coursework_discourse_test.json  $discourse_test"
      ],
      "execution_count": 0,
      "outputs": [
        {
          "output_type": "stream",
          "text": [
            "Copying gs://textasdata/coursework/coursework_discourse_train.json...\n",
            "/ [1 files][ 60.2 MiB/ 60.2 MiB]                                                \n",
            "Operation completed over 1 objects/60.2 MiB.                                     \n",
            "Copying gs://textasdata/coursework/coursework_discourse_test.json...\n",
            "/ [1 files][ 15.1 MiB/ 15.1 MiB]                                                \n",
            "Operation completed over 1 objects/15.1 MiB.                                     \n"
          ],
          "name": "stdout"
        }
      ]
    },
    {
      "cell_type": "code",
      "metadata": {
        "id": "pwOaf_6aD-Vh",
        "colab_type": "code",
        "colab": {}
      },
      "source": [
        "# The reddit thread structure is nested with posts in a new content.\n",
        "# This block reads the file as json and creates a new data frame.\n",
        "import pandas as pd\n",
        "import json\n",
        "\n",
        "def load_posts(file):\n",
        "  # A temporary variable to store the list of post content.\n",
        "  posts_tmp = list()\n",
        "\n",
        "  with open(file) as jsonfile:\n",
        "    for i, line in enumerate(jsonfile):\n",
        "     # if (i > 2): break\n",
        "      thread = json.loads(line)\n",
        "      for post in thread['posts']:\n",
        "        # NOTE: This should be changed to use additional features from the post or thread.\n",
        "        # DO NOT change the labels for the test set.\n",
        "        posts_tmp.append((thread['subreddit'], thread['title'], thread['url'],\n",
        "                        post['id'], post.get('author', \"\"), post.get('body', \"\"), post.get(\"majority_link\", \"\"), \n",
        "                        post.get('post_depth', 0), post.get('majority_type', \"\"), # discourse type label \n",
        "                        post.get('in_reply_to', \"\") ))\n",
        "\n",
        "# Create the posts data frame.  \n",
        "  labels = ['subreddit', 'title', 'url', 'id', 'author', 'body', 'majority_link', \n",
        "          'post_depth', 'discourse_type', 'in_reply_to']\n",
        "  return pd.DataFrame(posts_tmp, columns=labels)"
      ],
      "execution_count": 0,
      "outputs": []
    },
    {
      "cell_type": "code",
      "metadata": {
        "id": "PDzHTDcmEQ11",
        "colab_type": "code",
        "outputId": "30d2b048-aba4-4b9c-b491-45bf57e3e594",
        "colab": {
          "base_uri": "https://localhost:8080/",
          "height": 170
        }
      },
      "source": [
        "original_train_posts = load_posts(discourse_train)\n",
        "# Filter out empty labels\n",
        "original_train_posts = original_train_posts[original_train_posts['discourse_type'] != \"\"]\n",
        "print(original_train_posts.head())\n",
        "print(\"Num posts: \", original_train_posts.size)"
      ],
      "execution_count": 0,
      "outputs": [
        {
          "output_type": "stream",
          "text": [
            "    subreddit                           title  ... discourse_type in_reply_to\n",
            "0  worldofpvp  Help me decide my new PvP main  ...       question            \n",
            "1  worldofpvp  Help me decide my new PvP main  ...         answer   t3_2v0anq\n",
            "2  worldofpvp  Help me decide my new PvP main  ...         answer   t3_2v0anq\n",
            "3  worldofpvp  Help me decide my new PvP main  ...         answer   t3_2v0anq\n",
            "4  worldofpvp  Help me decide my new PvP main  ...         answer   t3_2v0anq\n",
            "\n",
            "[5 rows x 10 columns]\n",
            "Num posts:  792670\n"
          ],
          "name": "stdout"
        }
      ]
    },
    {
      "cell_type": "markdown",
      "metadata": {
        "id": "JmIeAX9lFIkp",
        "colab_type": "text"
      },
      "source": [
        "#### Development / Validation data\n",
        "\n",
        "For part B it is up to you to split the \"original\" training data into a new train/validation (development) dataset appropriately. See Lab 4 for an example. "
      ]
    },
    {
      "cell_type": "code",
      "metadata": {
        "id": "_nW8azbBLKXm",
        "colab_type": "code",
        "outputId": "eaddde8f-b416-4082-b6da-8fba8590a6c1",
        "colab": {
          "base_uri": "https://localhost:8080/",
          "height": 289
        }
      },
      "source": [
        "original_train_posts.head(5)"
      ],
      "execution_count": 0,
      "outputs": [
        {
          "output_type": "execute_result",
          "data": {
            "text/html": [
              "<div>\n",
              "<style scoped>\n",
              "    .dataframe tbody tr th:only-of-type {\n",
              "        vertical-align: middle;\n",
              "    }\n",
              "\n",
              "    .dataframe tbody tr th {\n",
              "        vertical-align: top;\n",
              "    }\n",
              "\n",
              "    .dataframe thead th {\n",
              "        text-align: right;\n",
              "    }\n",
              "</style>\n",
              "<table border=\"1\" class=\"dataframe\">\n",
              "  <thead>\n",
              "    <tr style=\"text-align: right;\">\n",
              "      <th></th>\n",
              "      <th>subreddit</th>\n",
              "      <th>title</th>\n",
              "      <th>url</th>\n",
              "      <th>id</th>\n",
              "      <th>author</th>\n",
              "      <th>body</th>\n",
              "      <th>majority_link</th>\n",
              "      <th>post_depth</th>\n",
              "      <th>discourse_type</th>\n",
              "      <th>in_reply_to</th>\n",
              "    </tr>\n",
              "  </thead>\n",
              "  <tbody>\n",
              "    <tr>\n",
              "      <th>0</th>\n",
              "      <td>worldofpvp</td>\n",
              "      <td>Help me decide my new PvP main</td>\n",
              "      <td>https://www.reddit.com/r/worldofpvp/comments/2...</td>\n",
              "      <td>t3_2v0anq</td>\n",
              "      <td>TyrickEU</td>\n",
              "      <td>Hi. \\nAs a raider previously, i had no problem...</td>\n",
              "      <td>none</td>\n",
              "      <td>0</td>\n",
              "      <td>question</td>\n",
              "      <td></td>\n",
              "    </tr>\n",
              "    <tr>\n",
              "      <th>1</th>\n",
              "      <td>worldofpvp</td>\n",
              "      <td>Help me decide my new PvP main</td>\n",
              "      <td>https://www.reddit.com/r/worldofpvp/comments/2...</td>\n",
              "      <td>t1_codb2p9</td>\n",
              "      <td>vurt</td>\n",
              "      <td>[deleted]  \\n ^^^^^^^^^^^^^^^^0.5422 \\n &gt; [Wha...</td>\n",
              "      <td>t3_2v0anq</td>\n",
              "      <td>1</td>\n",
              "      <td>answer</td>\n",
              "      <td>t3_2v0anq</td>\n",
              "    </tr>\n",
              "    <tr>\n",
              "      <th>2</th>\n",
              "      <td>worldofpvp</td>\n",
              "      <td>Help me decide my new PvP main</td>\n",
              "      <td>https://www.reddit.com/r/worldofpvp/comments/2...</td>\n",
              "      <td>t1_codg0we</td>\n",
              "      <td>OptimusNice</td>\n",
              "      <td>This goes mostly for 3v3 since that seems to b...</td>\n",
              "      <td>t3_2v0anq</td>\n",
              "      <td>1</td>\n",
              "      <td>answer</td>\n",
              "      <td>t3_2v0anq</td>\n",
              "    </tr>\n",
              "    <tr>\n",
              "      <th>3</th>\n",
              "      <td>worldofpvp</td>\n",
              "      <td>Help me decide my new PvP main</td>\n",
              "      <td>https://www.reddit.com/r/worldofpvp/comments/2...</td>\n",
              "      <td>t1_coeatsq</td>\n",
              "      <td></td>\n",
              "      <td>Rets are in a good position right now, althoug...</td>\n",
              "      <td>t3_2v0anq</td>\n",
              "      <td>1</td>\n",
              "      <td>answer</td>\n",
              "      <td>t3_2v0anq</td>\n",
              "    </tr>\n",
              "    <tr>\n",
              "      <th>4</th>\n",
              "      <td>worldofpvp</td>\n",
              "      <td>Help me decide my new PvP main</td>\n",
              "      <td>https://www.reddit.com/r/worldofpvp/comments/2...</td>\n",
              "      <td>t1_codbyit</td>\n",
              "      <td>Rageinjector</td>\n",
              "      <td>Druid are the best pvp healer atm and are grea...</td>\n",
              "      <td>t3_2v0anq</td>\n",
              "      <td>1</td>\n",
              "      <td>answer</td>\n",
              "      <td>t3_2v0anq</td>\n",
              "    </tr>\n",
              "  </tbody>\n",
              "</table>\n",
              "</div>"
            ],
            "text/plain": [
              "    subreddit                           title  ... discourse_type in_reply_to\n",
              "0  worldofpvp  Help me decide my new PvP main  ...       question            \n",
              "1  worldofpvp  Help me decide my new PvP main  ...         answer   t3_2v0anq\n",
              "2  worldofpvp  Help me decide my new PvP main  ...         answer   t3_2v0anq\n",
              "3  worldofpvp  Help me decide my new PvP main  ...         answer   t3_2v0anq\n",
              "4  worldofpvp  Help me decide my new PvP main  ...         answer   t3_2v0anq\n",
              "\n",
              "[5 rows x 10 columns]"
            ]
          },
          "metadata": {
            "tags": []
          },
          "execution_count": 66
        }
      ]
    },
    {
      "cell_type": "code",
      "metadata": {
        "id": "zIauHZBbFuqT",
        "colab_type": "code",
        "colab": {}
      },
      "source": [
        "# shuffle the data randomly to avoid possible bias.\n",
        "random_reviews = original_train_posts.sample(frac=1)\n",
        "# You may change this, but it's set to not be \"due big\".\n",
        "review_limit = min(400000, len(random_reviews))\n",
        "random_reviews = random_reviews.iloc[:review_limit, :]\n",
        "\n",
        "# 1. Split the data 80/20 train/test\n",
        "train_split = int(len(random_reviews) * 0.8)\n",
        "train_posts = random_reviews.iloc[:train_split,:]\n",
        "validation_posts = random_reviews.iloc[train_split:,:]"
      ],
      "execution_count": 0,
      "outputs": []
    },
    {
      "cell_type": "markdown",
      "metadata": {
        "id": "oSA0KrvkFmLg",
        "colab_type": "text"
      },
      "source": [
        "### Test data"
      ]
    },
    {
      "cell_type": "code",
      "metadata": {
        "id": "7vvo7hfCEmvj",
        "colab_type": "code",
        "colab": {}
      },
      "source": [
        "test_posts = load_posts(discourse_test)\n",
        "# Filter out empty labels\n",
        "test_posts = test_posts[test_posts['discourse_type'] != \"\"]\n"
      ],
      "execution_count": 0,
      "outputs": []
    },
    {
      "cell_type": "markdown",
      "metadata": {
        "id": "g08g8W1tG_es",
        "colab_type": "text"
      },
      "source": [
        "### Labels"
      ]
    },
    {
      "cell_type": "markdown",
      "metadata": {
        "id": "dqGLzyTOGadY",
        "colab_type": "text"
      },
      "source": [
        "The label for the post we will be predicting is in the discourse_type column."
      ]
    },
    {
      "cell_type": "code",
      "metadata": {
        "id": "Jat55HhNHGBp",
        "colab_type": "code",
        "colab": {}
      },
      "source": [
        "train_labels = train_posts['discourse_type']\n",
        "validation_labels = validation_posts['discourse_type']\n",
        "test_labels = test_posts['discourse_type']"
      ],
      "execution_count": 0,
      "outputs": []
    },
    {
      "cell_type": "markdown",
      "metadata": {
        "id": "rFl6sM58HNFp",
        "colab_type": "text"
      },
      "source": [
        "Examine the distribution over labels on the training data."
      ]
    },
    {
      "cell_type": "code",
      "metadata": {
        "id": "n3NbLPBhFOkp",
        "colab_type": "code",
        "outputId": "32b0e6f2-a76f-4671-a1c3-de962abe062f",
        "colab": {
          "base_uri": "https://localhost:8080/",
          "height": 357
        }
      },
      "source": [
        "discourse_counts = original_train_posts['discourse_type'].value_counts()\n",
        "print(discourse_counts.describe())\n",
        "\n",
        "top_discourse = discourse_counts.nlargest(20)\n",
        "print(top_discourse)"
      ],
      "execution_count": 0,
      "outputs": [
        {
          "output_type": "stream",
          "text": [
            "count       10.000000\n",
            "mean      7926.700000\n",
            "std       9664.321866\n",
            "min       1266.000000\n",
            "25%       1671.500000\n",
            "50%       3235.500000\n",
            "75%      11919.750000\n",
            "max      31419.000000\n",
            "Name: discourse_type, dtype: float64\n",
            "answer              31419\n",
            "elaboration         14775\n",
            "question            13610\n",
            "appreciation         6849\n",
            "agreement            3868\n",
            "disagreement         2603\n",
            "humor                1787\n",
            "other                1633\n",
            "announcement         1457\n",
            "negativereaction     1266\n",
            "Name: discourse_type, dtype: int64\n"
          ],
          "name": "stdout"
        }
      ]
    },
    {
      "cell_type": "markdown",
      "metadata": {
        "id": "DghVehScWGx0",
        "colab_type": "text"
      },
      "source": [
        "## Q4"
      ]
    },
    {
      "cell_type": "code",
      "metadata": {
        "id": "edi_pfhDHeuY",
        "colab_type": "code",
        "colab": {}
      },
      "source": [
        "\n",
        "Q4_Classifier = Pipeline([\n",
        "        ('union', FeatureUnion(\n",
        "          [\n",
        "            ('title', Pipeline([\n",
        "              ('selector', ItemSelector(key='title')),\n",
        "              ('one-hot', TfidfVectorizer(sublinear_tf=True)), \n",
        "              ])),\n",
        "            ('author', Pipeline([\n",
        "              ('selector', ItemSelector(key='author')),\n",
        "              ('one-hot', TfidfVectorizer(sublinear_tf=True)), \n",
        "              ])),\n",
        "            ('body', Pipeline([\n",
        "              ('selector', ItemSelector(key='body')),\n",
        "              ('one-hot', TfidfVectorizer(sublinear_tf=True)),  \n",
        "              ])),\n",
        "        ])\n",
        "        ),\n",
        "          ('Q4_Classifier', LogisticRegression(C=10))\n",
        "    ])"
      ],
      "execution_count": 0,
      "outputs": []
    },
    {
      "cell_type": "code",
      "metadata": {
        "id": "vXcVt3HSWFdf",
        "colab_type": "code",
        "colab": {}
      },
      "source": [
        "Q4_DummyClassifier = Pipeline([\n",
        "        ('union', FeatureUnion(\n",
        "          [\n",
        "            ('title', Pipeline([\n",
        "              ('selector', ItemSelector(key='title')),\n",
        "              ('one-hot', TfidfVectorizer(sublinear_tf=True)), \n",
        "              ])),\n",
        "            ('author', Pipeline([\n",
        "              ('selector', ItemSelector(key='author')),\n",
        "              ('one-hot', TfidfVectorizer(sublinear_tf=True)), \n",
        "              ])),\n",
        "            ('body', Pipeline([\n",
        "              ('selector', ItemSelector(key='body')),\n",
        "              ('one-hot', TfidfVectorizer(sublinear_tf=True)),  \n",
        "              ])),\n",
        "        ])\n",
        "        ),\n",
        "        ('Q4_DummyClassifier', DummyClassifier(strategy='stratified'))\n",
        "    ])"
      ],
      "execution_count": 0,
      "outputs": []
    },
    {
      "cell_type": "code",
      "metadata": {
        "id": "t-rN9Z5KWFnj",
        "colab_type": "code",
        "outputId": "641ad0c1-04cf-4dca-b0bc-e58d2ddd0160",
        "colab": {
          "base_uri": "https://localhost:8080/",
          "height": 1000
        }
      },
      "source": [
        "Q4_Classifier.fit(train_posts,train_labels)\n",
        "_=evaluation_summary(\"Q4_Classifier Union Pipeline\", Q4_Classifier.predict(validation_posts), validation_labels) \n",
        "_=evaluation_summary(\"Q4_Classifier Union Pipeline\", Q4_Classifier.predict(test_posts), test_labels) "
      ],
      "execution_count": 0,
      "outputs": [
        {
          "output_type": "stream",
          "text": [
            "Evaluation for: Q4_Classifier Union Pipeline\n",
            "Classifier 'Q4_Classifier Union Pipeline' has Acc=0.539 P=0.336 R=0.448 F1=0.365\n",
            "                  precision    recall  f1-score   support\n",
            "\n",
            "       agreement      0.297     0.525     0.380       459\n",
            "    announcement      0.040     0.077     0.053       142\n",
            "          answer      0.744     0.607     0.669      7719\n",
            "    appreciation      0.652     0.719     0.684      1213\n",
            "    disagreement      0.139     0.306     0.191       255\n",
            "     elaboration      0.401     0.394     0.398      3035\n",
            "           humor      0.160     0.463     0.238       134\n",
            "negativereaction      0.096     0.441     0.157        59\n",
            "           other      0.347     0.464     0.397       237\n",
            "        question      0.485     0.487     0.486      2601\n",
            "\n",
            "        accuracy                          0.539     15854\n",
            "       macro avg      0.336     0.448     0.365     15854\n",
            "    weighted avg      0.586     0.539     0.557     15854\n",
            "\n",
            "\n",
            "Confusion matrix:\n",
            " [[ 241    2  294   35   13  161    2    1    7   55]\n",
            " [   1   11   81   19    4  104    5    1   11   35]\n",
            " [  74   24 4688   77   49  746   15   10   20  599]\n",
            " [  25   10  148  872    4  122    8    2   21  125]\n",
            " [  22    7  209   12   78  165    0    6    4   59]\n",
            " [  51   47 1166   68   60 1196   13    7   26  347]\n",
            " [  14   12  139   21    2   79   62    2   10   46]\n",
            " [   9    9   71   16    7   77    8   26    6   43]\n",
            " [   3    8   83   24    3   53    7    0  110   26]\n",
            " [  19   12  840   69   35  332   14    4   22 1266]]\n",
            "Evaluation for: Q4_Classifier Union Pipeline\n",
            "Classifier 'Q4_Classifier Union Pipeline' has Acc=0.495 P=0.257 R=0.376 F1=0.276\n",
            "                  precision    recall  f1-score   support\n",
            "\n",
            "       agreement      0.212     0.473     0.293       427\n",
            "    announcement      0.090     0.201     0.125       164\n",
            "          answer      0.739     0.533     0.619     11001\n",
            "    appreciation      0.589     0.700     0.640      1448\n",
            "    disagreement      0.044     0.200     0.072       140\n",
            "     elaboration      0.242     0.294     0.265      2983\n",
            "           humor      0.020     0.225     0.036        40\n",
            "negativereaction      0.033     0.370     0.060        27\n",
            "           other      0.098     0.259     0.143       143\n",
            "        question      0.507     0.505     0.506      3439\n",
            "\n",
            "        accuracy                          0.495     19812\n",
            "       macro avg      0.257     0.376     0.276     19812\n",
            "    weighted avg      0.584     0.495     0.528     19812\n",
            "\n",
            "\n",
            "Confusion matrix:\n",
            " [[ 202    5  442   48    5  151    1    1    4   92]\n",
            " [   0   33  176   12    2   85    0    0    5   52]\n",
            " [  79   32 5866  128   45 1017    5    3   21  744]\n",
            " [  38   12  322 1013    2  181    3    2   24  123]\n",
            " [   7    4  385    8   28  130    0    3    2   74]\n",
            " [  63   26 2042   96   32  877    6    3   23  462]\n",
            " [   3    7  264   29    3   83    9    2    9   48]\n",
            " [   5    7  133   22    5   67    2   10    7   49]\n",
            " [   6    7  169   28    0   65    7    0   37   57]\n",
            " [  24   31 1202   64   18  327    7    3   11 1738]]\n"
          ],
          "name": "stdout"
        }
      ]
    },
    {
      "cell_type": "code",
      "metadata": {
        "id": "ozoSZjYAxQ46",
        "colab_type": "code",
        "outputId": "46277d37-efdd-4d01-bd98-83eb180b76b8",
        "colab": {
          "base_uri": "https://localhost:8080/",
          "height": 387
        }
      },
      "source": [
        "disp = plot_confusion_matrix(Q4_Classifier, test_posts, test_labels,\n",
        "                                 display_labels=test_labels.unique(),\n",
        "                                 cmap=plt.cm.Blues)\n",
        "plt.xticks(rotation=90)\n",
        "plt.title(\"Confusion matrix for the best classifier on F1 score (Neural network)\")"
      ],
      "execution_count": 0,
      "outputs": [
        {
          "output_type": "execute_result",
          "data": {
            "text/plain": [
              "Text(0.5, 1.0, 'Confusion matrix for the best classifier on F1 score (Neural network)')"
            ]
          },
          "metadata": {
            "tags": []
          },
          "execution_count": 74
        },
        {
          "output_type": "display_data",
          "data": {
            "image/png": "[encoded data removed]",
            "text/plain": [
              "<Figure size 432x288 with 2 Axes>"
            ]
          },
          "metadata": {
            "tags": []
          }
        }
      ]
    },
    {
      "cell_type": "code",
      "metadata": {
        "id": "-KNMr1_dWFwr",
        "colab_type": "code",
        "outputId": "3ef085a0-31fc-4de2-b038-73a7dd4a43ad",
        "colab": {
          "base_uri": "https://localhost:8080/",
          "height": 1000
        }
      },
      "source": [
        "Q4_DummyClassifier.fit(train_posts,train_labels)\n",
        "_=evaluation_summary(\"DummyClassifier Union Pipeline\", Q4_DummyClassifier.predict(validation_posts), validation_labels) \n",
        "_=evaluation_summary(\"DummyClassifier Union Pipeline\", Q4_DummyClassifier.predict(test_posts), test_labels) "
      ],
      "execution_count": 0,
      "outputs": [
        {
          "output_type": "stream",
          "text": [
            "Evaluation for: DummyClassifier Union Pipeline\n",
            "Classifier 'DummyClassifier Union Pipeline' has Acc=0.233 P=0.101 R=0.101 F1=0.101\n",
            "                  precision    recall  f1-score   support\n",
            "\n",
            "       agreement      0.055     0.060     0.057       755\n",
            "    announcement      0.026     0.021     0.023       332\n",
            "          answer      0.392     0.395     0.393      6258\n",
            "    appreciation      0.089     0.085     0.087      1397\n",
            "    disagreement      0.048     0.051     0.050       527\n",
            "     elaboration      0.182     0.184     0.183      2939\n",
            "           humor      0.008     0.008     0.008       355\n",
            "negativereaction      0.015     0.017     0.016       235\n",
            "           other      0.016     0.015     0.015       334\n",
            "        question      0.179     0.172     0.175      2722\n",
            "\n",
            "        accuracy                          0.233     15854\n",
            "       macro avg      0.101     0.101     0.101     15854\n",
            "    weighted avg      0.232     0.233     0.232     15854\n",
            "\n",
            "\n",
            "Confusion matrix:\n",
            " [[  45   15  327   67   26  165   16   12   15  123]\n",
            " [  14    7  108   24    6   43    5    7    2   56]\n",
            " [ 311  140 2469  539  200 1181  141   95  134 1092]\n",
            " [  53   31  534  119   43  256   36   16   25  224]\n",
            " [  30   11  215   47   27  104   13   11   10   94]\n",
            " [ 143   58 1192  273   98  542   72   39   63  501]\n",
            " [  17    3  164   30   17   64    3    7   14   68]\n",
            " [   8    3  107   27    6   55    5    4   13   44]\n",
            " [  15    5  117   36   11   58   11    6    5   53]\n",
            " [ 119   59 1025  235   93  471   53   38   53  467]]\n",
            "Evaluation for: DummyClassifier Union Pipeline\n",
            "Classifier 'DummyClassifier Union Pipeline' has Acc=0.236 P=0.107 R=0.107 F1=0.107\n",
            "                  precision    recall  f1-score   support\n",
            "\n",
            "       agreement      0.067     0.066     0.067       964\n",
            "    announcement      0.027     0.025     0.026       396\n",
            "          answer      0.391     0.402     0.396      7725\n",
            "    appreciation      0.092     0.092     0.092      1714\n",
            "    disagreement      0.036     0.035     0.035       664\n",
            "     elaboration      0.193     0.187     0.190      3746\n",
            "           humor      0.031     0.031     0.031       459\n",
            "negativereaction      0.033     0.031     0.032       321\n",
            "           other      0.032     0.028     0.030       423\n",
            "        question      0.170     0.171     0.171      3400\n",
            "\n",
            "        accuracy                          0.236     19812\n",
            "       macro avg      0.107     0.107     0.107     19812\n",
            "    weighted avg      0.233     0.236     0.234     19812\n",
            "\n",
            "\n",
            "Confusion matrix:\n",
            " [[  64   20  378   85   28  170   21   16   15  154]\n",
            " [  23   10  131   33   16   67    8    6    5   66]\n",
            " [ 372  161 3102  680  262 1499  193  125  163 1383]\n",
            " [  85   37  674  158   48  322   33   29   30  304]\n",
            " [  24   11  246   61   23  128   16   11   14  107]\n",
            " [ 183   73 1401  309  135  699   79   63   87  601]\n",
            " [  25   12  160   40   14   92   14    6    9   85]\n",
            " [  17    6  110   28    7   64    3   10    8   54]\n",
            " [  18    7  152   30   14   64   12    4   12   63]\n",
            " [ 153   59 1371  290  117  641   80   51   80  583]]\n"
          ],
          "name": "stdout"
        }
      ]
    },
    {
      "cell_type": "markdown",
      "metadata": {
        "id": "Ht6fEUiQdC5J",
        "colab_type": "text"
      },
      "source": [
        "## Q5"
      ]
    },
    {
      "cell_type": "code",
      "metadata": {
        "id": "Z5xnR-Wkj-lW",
        "colab_type": "code",
        "colab": {}
      },
      "source": [
        "def author_initial(t_feature):\n",
        "  bin_auth = []\n",
        "  for index, row in t_feature.iterrows():\n",
        "\n",
        "    if row['post_depth']==0:\n",
        "      bin_auth.append(1)\n",
        "      continue\n",
        "    temp_auth = row['author']\n",
        "    if not temp_auth:\n",
        "      bin_auth.append(0)\n",
        "      continue\n",
        "\n",
        "    temp_title = row['title']\n",
        "    temp_reddit = row['subreddit']\n",
        "    initial_author = t_feature[t_feature['subreddit']==temp_reddit]\n",
        "    initial_author = initial_author[initial_author['title']==temp_title]\n",
        "    initial_author = initial_author[initial_author['post_depth']==0]['author']\n",
        "\n",
        "    if initial_author.empty:\n",
        "      bin_auth.append(0)\n",
        "    else:\n",
        "      initial_author = initial_author.item()\n",
        "      if temp_auth == initial_author:\n",
        "        bin_auth.append(1)\n",
        "      else:\n",
        "        bin_auth.append(0)\n",
        "        \n",
        "  return bin_auth"
      ],
      "execution_count": 0,
      "outputs": []
    },
    {
      "cell_type": "code",
      "metadata": {
        "id": "GYFf-Cc5j-xP",
        "colab_type": "code",
        "colab": {}
      },
      "source": [
        "bin_auth = author_initial(train_posts)\n",
        "train_posts['bin_auth'] = bin_auth"
      ],
      "execution_count": 0,
      "outputs": []
    },
    {
      "cell_type": "code",
      "metadata": {
        "id": "hBQsZAkgMXLr",
        "colab_type": "code",
        "colab": {}
      },
      "source": [
        "train_posts = train_posts.head(10000)\n",
        "train_labels = train_labels.head(10000)"
      ],
      "execution_count": 0,
      "outputs": []
    },
    {
      "cell_type": "code",
      "metadata": {
        "id": "VVy4V48xj-78",
        "colab_type": "code",
        "colab": {}
      },
      "source": [
        "bin_auth = author_initial(test_posts)\n",
        "test_posts['bin_auth'] = bin_auth"
      ],
      "execution_count": 0,
      "outputs": []
    },
    {
      "cell_type": "code",
      "metadata": {
        "id": "SKkH6i9Ij_HS",
        "colab_type": "code",
        "colab": {}
      },
      "source": [
        "def similiar_posts_feature(t_features,k=5):\n",
        "  all_posts_tokenized = t_features.body.apply(tokenize_normalize)\n",
        "  model = gensim.models.Word2Vec(all_posts_tokenized)\n",
        "  reddit_vectorizer = MaximumEmbeddingVectorizer(model)\n",
        "  reddit_post_vector_matrix = reddit_vectorizer.transform(all_posts_tokenized)\n",
        "  matrix = reddit_post_vector_matrix\n",
        "  return matrix,model\n",
        "similiar_bodies,temp_model = similiar_posts_feature(train_posts,3)\n"
      ],
      "execution_count": 0,
      "outputs": []
    },
    {
      "cell_type": "code",
      "metadata": {
        "id": "BTJrOKbE0cA_",
        "colab_type": "code",
        "colab": {}
      },
      "source": [
        "temp_sim = []\n",
        "for x in similiar_bodies:\n",
        "  if len(np.where(x==max(x))[0])>1:\n",
        "   temp_sim.append(int(np.where(x==max(x))[0][0]))\n",
        "  else:\n",
        "    temp_sim.append(int(np.where(x==max(x))[0]))\n",
        "train_posts['similiar_bodies'] = temp_sim"
      ],
      "execution_count": 0,
      "outputs": []
    },
    {
      "cell_type": "code",
      "metadata": {
        "id": "DqZfBQ_G60fY",
        "colab_type": "code",
        "colab": {}
      },
      "source": [
        "test_bodies,temp_model2 = similiar_posts_feature(test_posts,3)\n",
        "temp_sim = []\n",
        "for x in test_bodies:\n",
        "  if len(np.where(x==max(x))[0])>1:\n",
        "   temp_sim.append(int(np.where(x==max(x))[0][0]))\n",
        "  else:\n",
        "    temp_sim.append(int(np.where(x==max(x))[0]))\n",
        "test_posts['similiar_bodies'] = temp_sim"
      ],
      "execution_count": 0,
      "outputs": []
    },
    {
      "cell_type": "code",
      "metadata": {
        "id": "cHxz6foAfSrd",
        "colab_type": "code",
        "colab": {}
      },
      "source": [
        "Q4_Classifier = Pipeline([\n",
        "        ('union', FeatureUnion(\n",
        "          [\n",
        "            ('title', Pipeline([\n",
        "              ('selector', ItemSelector(key='title')),\n",
        "              ('one-hot', TfidfVectorizer(sublinear_tf=True)), \n",
        "              ])),\n",
        "            ('subreddit', Pipeline([\n",
        "              ('selector', ItemSelector(key='subreddit')),\n",
        "              ('one-hot', TfidfVectorizer(sublinear_tf=True)), \n",
        "              ])),\n",
        "             ('post_depth', Pipeline([\n",
        "              ('selector', MySelector(key='post_depth')),\n",
        "              ])),\n",
        "            ('bin_auth', Pipeline([\n",
        "              ('selector', MySelector(key='bin_auth')),\n",
        "              ])),\n",
        "            ('author', Pipeline([\n",
        "              ('selector', ItemSelector(key='author')),\n",
        "              ('one-hot', TfidfVectorizer(sublinear_tf=True)), \n",
        "              ])),\n",
        "            ('body', Pipeline([\n",
        "              ('selector', ItemSelector(key='body')),\n",
        "              ('one-hot', TfidfVectorizer(sublinear_tf=True)),  \n",
        "              ])),\n",
        "        ])\n",
        "        ),\n",
        "          ('svm', SVC(probability=True))\n",
        "    ])"
      ],
      "execution_count": 0,
      "outputs": []
    },
    {
      "cell_type": "code",
      "metadata": {
        "id": "-zJBOKNgpjKl",
        "colab_type": "code",
        "colab": {}
      },
      "source": [
        "Q4_Classifier.fit(train_posts,train_labels)\n",
        "proba = Q4_Classifier.predict_proba(train_posts)\n",
        "myproba = []\n",
        "for x in proba:\n",
        "  myproba.append(int(np.where(x==max(x))[0]))\n",
        "train_posts['proba'] = myproba"
      ],
      "execution_count": 0,
      "outputs": []
    },
    {
      "cell_type": "code",
      "metadata": {
        "id": "PD0f1pFHEPgr",
        "colab_type": "code",
        "colab": {}
      },
      "source": [
        "Q4_Classifier.fit(test_posts,test_labels)\n",
        "proba = Q4_Classifier.predict_proba(test_posts)\n",
        "myproba = []\n",
        "for x in proba:\n",
        "  myproba.append(int(np.where(x==max(x))[0]))\n",
        "test_posts['proba'] = myproba"
      ],
      "execution_count": 0,
      "outputs": []
    },
    {
      "cell_type": "code",
      "metadata": {
        "id": "wZk7SFhGdEcG",
        "colab_type": "code",
        "colab": {}
      },
      "source": [
        "  Q4_Classifier = Pipeline([\n",
        "        ('union', FeatureUnion(\n",
        "          [\n",
        "            ('title', Pipeline([\n",
        "              ('selector', ItemSelector(key='title')),\n",
        "              ('one-hot', TfidfVectorizer(sublinear_tf=True)), \n",
        "              ])),\n",
        "            ('subreddit', Pipeline([\n",
        "              ('selector2', ItemSelector(key='subreddit')),\n",
        "              ('one-hot', TfidfVectorizer(sublinear_tf=True)), \n",
        "              ])),\n",
        "             ('post_depth', Pipeline([\n",
        "              ('selector3', MySelector(key='post_depth')),\n",
        "              ])),\n",
        "            ('bin_auth', Pipeline([\n",
        "            ('selector4', MySelector(key='bin_auth')),\n",
        "              ])),\n",
        "          ('proba', Pipeline([\n",
        "             ('selector5', MySelector(key='proba')),\n",
        "           ])),\n",
        "            ('author', Pipeline([\n",
        "              ('selector', ItemSelector(key='author')),\n",
        "              ('one-hot', TfidfVectorizer(sublinear_tf=True)), \n",
        "              ])),\n",
        "           ('vector', Pipeline([\n",
        "              ('selector', MySelector(key='similiar_bodies')),\n",
        "              ('one-hot', MaximumEmbeddingVectorizer(temp_model)), \n",
        "              ])),\n",
        "            ('body', Pipeline([\n",
        "              ('selector', ItemSelector(key='body')),\n",
        "              ('one-hot', TfidfVectorizer(sublinear_tf=True)),  \n",
        "              ])),\n",
        "        ])\n",
        "        ),\n",
        "          ('Q4_Classifier', LogisticRegression(C=10))\n",
        "    ])"
      ],
      "execution_count": 0,
      "outputs": []
    },
    {
      "cell_type": "code",
      "metadata": {
        "id": "o2sACPQ8dEmP",
        "colab_type": "code",
        "outputId": "e4491acf-71c6-4f12-ee4e-0f516d8b55de",
        "colab": {
          "base_uri": "https://localhost:8080/",
          "height": 544
        }
      },
      "source": [
        "Q4_Classifier.fit(train_posts,train_labels)\n",
        "#evaluation_summary(\"DummyClassifier Union Pipeline\", Q4_Classifier.predict(validation_posts), validation_labels) \n",
        "_=evaluation_summary(\"Q5 final Union Pipeline\", Q4_Classifier.predict(test_posts), test_labels) "
      ],
      "execution_count": 0,
      "outputs": [
        {
          "output_type": "stream",
          "text": [
            "Evaluation for: Q5 final Union Pipeline\n",
            "Classifier 'Q5 final Union Pipeline' has Acc=0.734 P=0.491 R=0.560 F1=0.499\n",
            "                  precision    recall  f1-score   support\n",
            "\n",
            "       agreement      0.726     0.774     0.749       891\n",
            "    announcement      0.997     0.929     0.962       392\n",
            "          answer      0.911     0.820     0.863      8815\n",
            "    appreciation      0.589     0.782     0.672      1295\n",
            "    disagreement      0.044     0.224     0.073       125\n",
            "     elaboration      0.689     0.577     0.628      4334\n",
            "           humor      0.070     0.330     0.116        97\n",
            "negativereaction      0.033     0.119     0.051        84\n",
            "           other      0.082     0.326     0.132        95\n",
            "        question      0.773     0.719     0.745      3684\n",
            "\n",
            "        accuracy                          0.734     19812\n",
            "       macro avg      0.491     0.560     0.499     19812\n",
            "    weighted avg      0.792     0.734     0.758     19812\n",
            "\n",
            "\n",
            "Confusion matrix:\n",
            " [[ 690    0   95   24    4  113    2    0    0   23]\n",
            " [   0  364    0    0    0    0    0    0    0    1]\n",
            " [  67    0 7231   92   11  446    2    4    3   84]\n",
            " [  18    0  395 1013    5  224    5    1    1   58]\n",
            " [  26    0  213   13   28  320    3    0    0   38]\n",
            " [  25    0  524   84   51 2500    4    1    3  438]\n",
            " [   9   15   33   22    6  223   32    1    0  116]\n",
            " [  12    0   20    9    7  113   12   10    0  124]\n",
            " [  17   10   26    9    4   85   18   23   31  153]\n",
            " [  27    3  278   29    9  310   19   44   57 2649]]\n"
          ],
          "name": "stdout"
        }
      ]
    }
  ]
}